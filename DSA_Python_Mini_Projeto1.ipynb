{
  "nbformat": 4,
  "nbformat_minor": 0,
  "metadata": {
    "colab": {
      "name": "DSA-Python-Mini-Projeto1.ipynb",
      "provenance": [],
      "collapsed_sections": [
        "yebFAbpYviBJ",
        "m6W_XSp3yBSL",
        "CWF1erMywd2w",
        "jRKl5x8YxoXO",
        "V4RFdmlvsbgQ",
        "2F2Dmji2xR9v",
        "9U6CKRVVzF5O",
        "Z4O4rDdHy7oO"
      ],
      "include_colab_link": true
    },
    "kernelspec": {
      "display_name": "Python 3",
      "language": "python",
      "name": "python3"
    },
    "language_info": {
      "codemirror_mode": {
        "name": "ipython",
        "version": 3
      },
      "file_extension": ".py",
      "mimetype": "text/x-python",
      "name": "python",
      "nbconvert_exporter": "python",
      "pygments_lexer": "ipython3",
      "version": "3.8.8"
    }
  },
  "cells": [
    {
      "cell_type": "markdown",
      "metadata": {
        "id": "view-in-github",
        "colab_type": "text"
      },
      "source": [
        "<a href=\"https://colab.research.google.com/github/Helsonfs/Mini_projeto01_DSA/blob/main/DSA_Python_Mini_Projeto1.ipynb\" target=\"_parent\"><img src=\"https://colab.research.google.com/assets/colab-badge.svg\" alt=\"Open In Colab\"/></a>"
      ]
    },
    {
      "cell_type": "markdown",
      "metadata": {
        "id": "H32ZKIuYF6OK"
      },
      "source": [
        "# <font color='blue'>Data Science Academy - Python Fundamentos - Capítulo 6</font>\n",
        "\n",
        "## Download: http://github.com/dsacademybr"
      ]
    },
    {
      "cell_type": "markdown",
      "metadata": {
        "id": "lEeLmOsRF6OQ"
      },
      "source": [
        "## Mini-Projeto 1 - Guia de Análise Exploratória de Dados com Python e Linguagem SQL"
      ]
    },
    {
      "cell_type": "markdown",
      "metadata": {
        "id": "iwKmUt8HF6OS"
      },
      "source": [
        "!url: (https://github.com/Helsonfs/Mini_projeto01_DSA/commit/ae2f01d54572bf139226ed928df848b255570bf8)"
      ]
    },
    {
      "cell_type": "code",
      "metadata": {
        "colab": {
          "base_uri": "https://localhost:8080/",
          "height": 129
        },
        "id": "2zVxHAw1gGbK",
        "outputId": "3e09cd19-ab2b-470a-c318-d32819e2792e"
      },
      "source": [
        "pd https://github.com/Helsonfs/Mini_projeto01_DSA/commit/ae2f01d54572bf139226ed928df848b255570bf8"
      ],
      "execution_count": 105,
      "outputs": [
        {
          "output_type": "error",
          "ename": "SyntaxError",
          "evalue": "ignored",
          "traceback": [
            "\u001b[0;36m  File \u001b[0;32m\"<ipython-input-105-006c0cba92da>\"\u001b[0;36m, line \u001b[0;32m1\u001b[0m\n\u001b[0;31m    URL:https://github.com/Helsonfs/Mini_projeto01_DSA/commit/ae2f01d54572bf139226ed928df848b255570bf8\u001b[0m\n\u001b[0m             ^\u001b[0m\n\u001b[0;31mSyntaxError\u001b[0m\u001b[0;31m:\u001b[0m invalid syntax\n"
          ]
        }
      ]
    },
    {
      "cell_type": "markdown",
      "metadata": {
        "id": "mf2NIe4hF6OU"
      },
      "source": [
        "Neste Mini-Projeto vamos apresentar um guia básico de análise exploratória de dados usando Linguagem Python, Linguagem SQL e Banco de Dados SQLite. Usaremos dados reais disponíveis publicamente, dados sobre filmes no <a href=\"https://www.imdb.com/interfaces/\">IMDB</a>.\n",
        "\n",
        "Guias avançados de Análise Exploratória de Dados são fornecidos na <a href=\"https://www.datascienceacademy.com.br/bundle/formacao-cientista-de-dados\">Formação Cientista de Dados</a>.\n",
        "\n",
        "Para aprender mais sobre Linguagem SQL:\n",
        "\n",
        "- <a href=\"https://www.datascienceacademy.com.br/path-player?courseid=microsoft-power-bi-para-data-science\">SQL Analytics Básico</a>\n",
        "- <a href=\"https://www.datascienceacademy.com.br/course/modelagem-de-banco-de-dados-relacionais-nao-relacionais-e-data-stores\">SQL Analytics Avançado</a>\n",
        "\n",
        "Ao aplicar Análise Exploratória de Dados vamos responder a estas 10 perguntas:\n",
        "\n",
        "- 1- Quais São as Categorias de Filmes Mais Comuns no IMDB?\n",
        "- 2- Qual o Número de Títulos Por Gênero?\n",
        "- 3- Qual a Mediana de Avaliação dos Filmes Por Gênero?\n",
        "- 4- Qual a Mediana de Avaliação dos Filmes Em Relação ao Ano de Estréia?\n",
        "- 5- Qual o Número de Filmes Avaliados Por Gênero Em Relação ao Ano de Estréia?\n",
        "- 6- Qual o Filme Com Maior Tempo de Duração? Calcule os Percentis.\n",
        "- 7- Qual a Relação Entre Duração e Gênero?\n",
        "- 8- Qual o Número de Filmes Produzidos Por País?\n",
        "- 9- Quais São os Top 10 Melhores Filmes?\n",
        "- 10- Quais São os Top 10 Piores Filmes?"
      ]
    },
    {
      "cell_type": "markdown",
      "metadata": {
        "id": "MhDMaieZF6OY"
      },
      "source": [
        "## Instalando e Carregando Pacotes"
      ]
    },
    {
      "cell_type": "code",
      "metadata": {
        "colab": {
          "base_uri": "https://localhost:8080/"
        },
        "id": "v2brNqPYF6OZ",
        "outputId": "9bd05fa5-3145-4a49-e978-dfe227f28f15"
      },
      "source": [
        "# Versão da Linguagem Python\n",
        "from platform import python_version\n",
        "print('Versão da Linguagem Python Usada Neste Jupyter Notebook:', python_version())"
      ],
      "execution_count": 1,
      "outputs": [
        {
          "output_type": "stream",
          "text": [
            "Versão da Linguagem Python Usada Neste Jupyter Notebook: 3.7.11\n"
          ],
          "name": "stdout"
        }
      ]
    },
    {
      "cell_type": "markdown",
      "metadata": {
        "id": "EjrUleliF6Od"
      },
      "source": [
        "https://pypi.org/\n",
        "\n",
        "https://pypi.org/project/imdb-sqlite/"
      ]
    },
    {
      "cell_type": "code",
      "metadata": {
        "id": "XEa1Oqd5t8tX"
      },
      "source": [
        "# Instala o pacote\n",
        "!pip install -q imdb-sqlite"
      ],
      "execution_count": 2,
      "outputs": []
    },
    {
      "cell_type": "markdown",
      "metadata": {
        "id": "9xo5khUmF6Og"
      },
      "source": [
        "Agora executamos o pacote para download dos datasets."
      ]
    },
    {
      "cell_type": "code",
      "metadata": {
        "colab": {
          "base_uri": "https://localhost:8080/"
        },
        "id": "j0iCLWkrF6Oj",
        "outputId": "7bd80762-55b9-4f26-934b-90eda1ecfab4"
      },
      "source": [
        "# Instala o pacote\n",
        "# https://pypi.org/project/pycountry/\n",
        "!pip install -q pycountry"
      ],
      "execution_count": 3,
      "outputs": [
        {
          "output_type": "stream",
          "text": [
            "\u001b[K     |████████████████████████████████| 10.1 MB 7.2 MB/s \n",
            "\u001b[?25h  Building wheel for pycountry (setup.py) ... \u001b[?25l\u001b[?25hdone\n"
          ],
          "name": "stdout"
        }
      ]
    },
    {
      "cell_type": "code",
      "metadata": {
        "id": "KwrZ9EWy02p7"
      },
      "source": [
        "# Imports\n",
        "import re\n",
        "import time\n",
        "import sqlite3\n",
        "import pycountry\n",
        "import numpy as np\n",
        "import pandas as pd\n",
        "import matplotlib.pyplot as plt\n",
        "import seaborn as sns\n",
        "from matplotlib import cm\n",
        "from sklearn.feature_extraction.text import CountVectorizer\n",
        "import warnings\n",
        "warnings.filterwarnings(\"ignore\")\n",
        "sns.set_theme(style = \"whitegrid\")"
      ],
      "execution_count": 4,
      "outputs": []
    },
    {
      "cell_type": "markdown",
      "metadata": {
        "id": "yebFAbpYviBJ"
      },
      "source": [
        "## Carregando os Dados\n",
        "\n",
        "Primeiro temos que baixar os dados!"
      ]
    },
    {
      "cell_type": "code",
      "metadata": {
        "colab": {
          "base_uri": "https://localhost:8080/"
        },
        "id": "18JO-2JAwLf8",
        "outputId": "c3089e00-6be2-41ec-d172-d406eccd1763"
      },
      "source": [
        "%%time\n",
        "!imdb-sqlite"
      ],
      "execution_count": 5,
      "outputs": [
        {
          "output_type": "stream",
          "text": [
            "2021-08-02 23:13:08,151 GET https://datasets.imdbws.com/name.basics.tsv.gz -> downloads/name.basics.tsv.gz\n",
            "2021-08-02 23:13:10,205 GET https://datasets.imdbws.com/title.basics.tsv.gz -> downloads/title.basics.tsv.gz\n",
            "2021-08-02 23:13:14,245 GET https://datasets.imdbws.com/title.akas.tsv.gz -> downloads/title.akas.tsv.gz\n",
            "2021-08-02 23:13:16,952 GET https://datasets.imdbws.com/title.principals.tsv.gz -> downloads/title.principals.tsv.gz\n",
            "2021-08-02 23:13:19,423 GET https://datasets.imdbws.com/title.episode.tsv.gz -> downloads/title.episode.tsv.gz\n",
            "2021-08-02 23:13:19,995 GET https://datasets.imdbws.com/title.ratings.tsv.gz -> downloads/title.ratings.tsv.gz\n",
            "2021-08-02 23:13:20,230 Populating database: imdb.db\n",
            "2021-08-02 23:13:20,231 Applying schema\n",
            "2021-08-02 23:13:20,234 Importing file: downloads/name.basics.tsv.gz\n",
            "2021-08-02 23:13:20,234 Reading number of rows ...\n",
            "2021-08-02 23:13:25,909 Inserting rows into table: people\n",
            "100% 11117012/11117012 [02:02<00:00, 90906.30 rows/s]\n",
            "2021-08-02 23:15:28,209 Importing file: downloads/title.basics.tsv.gz\n",
            "2021-08-02 23:15:28,209 Reading number of rows ...\n",
            "2021-08-02 23:15:32,632 Inserting rows into table: titles\n",
            "100% 8141455/8141455 [01:49<00:00, 74152.70 rows/s]\n",
            "2021-08-02 23:17:22,429 Importing file: downloads/title.akas.tsv.gz\n",
            "2021-08-02 23:17:22,429 Reading number of rows ...\n",
            "2021-08-02 23:17:30,307 Inserting rows into table: akas\n",
            "100% 28323669/28323669 [05:16<00:00, 89529.06 rows/s]\n",
            "2021-08-02 23:22:46,674 Importing file: downloads/title.principals.tsv.gz\n",
            "2021-08-02 23:22:46,674 Reading number of rows ...\n",
            "2021-08-02 23:22:58,846 Inserting rows into table: crew\n",
            "100% 46051997/46051997 [06:49<00:00, 112575.41 rows/s]\n",
            "2021-08-02 23:29:47,926 Importing file: downloads/title.episode.tsv.gz\n",
            "2021-08-02 23:29:47,926 Reading number of rows ...\n",
            "2021-08-02 23:29:48,942 Inserting rows into table: episodes\n",
            "100% 5958742/5958742 [00:41<00:00, 144992.12 rows/s]\n",
            "2021-08-02 23:30:30,043 Importing file: downloads/title.ratings.tsv.gz\n",
            "2021-08-02 23:30:30,043 Reading number of rows ...\n",
            "2021-08-02 23:30:30,213 Inserting rows into table: ratings\n",
            "100% 1174510/1174510 [00:08<00:00, 137231.47 rows/s]\n",
            "2021-08-02 23:30:38,775 Creating table indices ...\n",
            "2021-08-02 23:35:16,367 Import successful\n",
            "CPU times: user 18.7 s, sys: 2.27 s, total: 20.9 s\n",
            "Wall time: 22min 8s\n"
          ],
          "name": "stdout"
        }
      ]
    },
    {
      "cell_type": "code",
      "metadata": {
        "id": "GCynwX5SFUt8"
      },
      "source": [
        "# Conecta no banco de dados\n",
        "conn = sqlite3.connect(\"imdb.db\")"
      ],
      "execution_count": 6,
      "outputs": []
    },
    {
      "cell_type": "code",
      "metadata": {
        "id": "ODFg_X23F0Yu"
      },
      "source": [
        "# Extrai a lista de tabelas\n",
        "tabelas = pd.read_sql_query(\"SELECT NAME AS 'Table_Name' FROM sqlite_master WHERE type = 'table'\", conn)"
      ],
      "execution_count": 7,
      "outputs": []
    },
    {
      "cell_type": "code",
      "metadata": {
        "colab": {
          "base_uri": "https://localhost:8080/"
        },
        "id": "2b5l6VKYF6Op",
        "outputId": "268467a4-551c-41e3-ed21-84d895d3a13c"
      },
      "source": [
        "# Tipo do objeto\n",
        "type(tabelas)"
      ],
      "execution_count": 8,
      "outputs": [
        {
          "output_type": "execute_result",
          "data": {
            "text/plain": [
              "pandas.core.frame.DataFrame"
            ]
          },
          "metadata": {
            "tags": []
          },
          "execution_count": 8
        }
      ]
    },
    {
      "cell_type": "code",
      "metadata": {
        "colab": {
          "base_uri": "https://localhost:8080/",
          "height": 204
        },
        "id": "JkPa-M0iF6Op",
        "outputId": "a7a9d8fc-28af-4bed-a1c3-e11d8078adb5"
      },
      "source": [
        "# Visualiza o resultado\n",
        "tabelas.head()"
      ],
      "execution_count": 9,
      "outputs": [
        {
          "output_type": "execute_result",
          "data": {
            "text/html": [
              "<div>\n",
              "<style scoped>\n",
              "    .dataframe tbody tr th:only-of-type {\n",
              "        vertical-align: middle;\n",
              "    }\n",
              "\n",
              "    .dataframe tbody tr th {\n",
              "        vertical-align: top;\n",
              "    }\n",
              "\n",
              "    .dataframe thead th {\n",
              "        text-align: right;\n",
              "    }\n",
              "</style>\n",
              "<table border=\"1\" class=\"dataframe\">\n",
              "  <thead>\n",
              "    <tr style=\"text-align: right;\">\n",
              "      <th></th>\n",
              "      <th>Table_Name</th>\n",
              "    </tr>\n",
              "  </thead>\n",
              "  <tbody>\n",
              "    <tr>\n",
              "      <th>0</th>\n",
              "      <td>people</td>\n",
              "    </tr>\n",
              "    <tr>\n",
              "      <th>1</th>\n",
              "      <td>titles</td>\n",
              "    </tr>\n",
              "    <tr>\n",
              "      <th>2</th>\n",
              "      <td>akas</td>\n",
              "    </tr>\n",
              "    <tr>\n",
              "      <th>3</th>\n",
              "      <td>crew</td>\n",
              "    </tr>\n",
              "    <tr>\n",
              "      <th>4</th>\n",
              "      <td>episodes</td>\n",
              "    </tr>\n",
              "  </tbody>\n",
              "</table>\n",
              "</div>"
            ],
            "text/plain": [
              "  Table_Name\n",
              "0     people\n",
              "1     titles\n",
              "2       akas\n",
              "3       crew\n",
              "4   episodes"
            ]
          },
          "metadata": {
            "tags": []
          },
          "execution_count": 9
        }
      ]
    },
    {
      "cell_type": "code",
      "metadata": {
        "id": "QTwptd0OF6Oq"
      },
      "source": [
        "# Vamos converter o dataframe em uma lista\n",
        "tabelas = tabelas[\"Table_Name\"].values.tolist()"
      ],
      "execution_count": 10,
      "outputs": []
    },
    {
      "cell_type": "code",
      "metadata": {
        "colab": {
          "base_uri": "https://localhost:8080/",
          "height": 1000
        },
        "id": "Z2GQyqVgF6gD",
        "outputId": "3a0189d9-08a5-4127-ea56-6df88d5485f8"
      },
      "source": [
        "# Vamos percorrer a lista de tabelas no banco de dados e extrair o esquema de cada uma\n",
        "for tabela in tabelas:\n",
        "    consulta = \"PRAGMA TABLE_INFO({})\".format(tabela)\n",
        "    resultado = pd.read_sql_query(consulta, conn)\n",
        "    print(\"Esquema da tabela:\", tabela)\n",
        "    display(resultado)\n",
        "    print(\"-\"*100)\n",
        "    print(\"\\n\")"
      ],
      "execution_count": 11,
      "outputs": [
        {
          "output_type": "stream",
          "text": [
            "Esquema da tabela: people\n"
          ],
          "name": "stdout"
        },
        {
          "output_type": "display_data",
          "data": {
            "text/html": [
              "<div>\n",
              "<style scoped>\n",
              "    .dataframe tbody tr th:only-of-type {\n",
              "        vertical-align: middle;\n",
              "    }\n",
              "\n",
              "    .dataframe tbody tr th {\n",
              "        vertical-align: top;\n",
              "    }\n",
              "\n",
              "    .dataframe thead th {\n",
              "        text-align: right;\n",
              "    }\n",
              "</style>\n",
              "<table border=\"1\" class=\"dataframe\">\n",
              "  <thead>\n",
              "    <tr style=\"text-align: right;\">\n",
              "      <th></th>\n",
              "      <th>cid</th>\n",
              "      <th>name</th>\n",
              "      <th>type</th>\n",
              "      <th>notnull</th>\n",
              "      <th>dflt_value</th>\n",
              "      <th>pk</th>\n",
              "    </tr>\n",
              "  </thead>\n",
              "  <tbody>\n",
              "    <tr>\n",
              "      <th>0</th>\n",
              "      <td>0</td>\n",
              "      <td>person_id</td>\n",
              "      <td>VARCHAR</td>\n",
              "      <td>0</td>\n",
              "      <td>None</td>\n",
              "      <td>1</td>\n",
              "    </tr>\n",
              "    <tr>\n",
              "      <th>1</th>\n",
              "      <td>1</td>\n",
              "      <td>name</td>\n",
              "      <td>VARCHAR</td>\n",
              "      <td>0</td>\n",
              "      <td>None</td>\n",
              "      <td>0</td>\n",
              "    </tr>\n",
              "    <tr>\n",
              "      <th>2</th>\n",
              "      <td>2</td>\n",
              "      <td>born</td>\n",
              "      <td>INTEGER</td>\n",
              "      <td>0</td>\n",
              "      <td>None</td>\n",
              "      <td>0</td>\n",
              "    </tr>\n",
              "    <tr>\n",
              "      <th>3</th>\n",
              "      <td>3</td>\n",
              "      <td>died</td>\n",
              "      <td>INTEGER</td>\n",
              "      <td>0</td>\n",
              "      <td>None</td>\n",
              "      <td>0</td>\n",
              "    </tr>\n",
              "  </tbody>\n",
              "</table>\n",
              "</div>"
            ],
            "text/plain": [
              "   cid       name     type  notnull dflt_value  pk\n",
              "0    0  person_id  VARCHAR        0       None   1\n",
              "1    1       name  VARCHAR        0       None   0\n",
              "2    2       born  INTEGER        0       None   0\n",
              "3    3       died  INTEGER        0       None   0"
            ]
          },
          "metadata": {
            "tags": []
          }
        },
        {
          "output_type": "stream",
          "text": [
            "----------------------------------------------------------------------------------------------------\n",
            "\n",
            "\n",
            "Esquema da tabela: titles\n"
          ],
          "name": "stdout"
        },
        {
          "output_type": "display_data",
          "data": {
            "text/html": [
              "<div>\n",
              "<style scoped>\n",
              "    .dataframe tbody tr th:only-of-type {\n",
              "        vertical-align: middle;\n",
              "    }\n",
              "\n",
              "    .dataframe tbody tr th {\n",
              "        vertical-align: top;\n",
              "    }\n",
              "\n",
              "    .dataframe thead th {\n",
              "        text-align: right;\n",
              "    }\n",
              "</style>\n",
              "<table border=\"1\" class=\"dataframe\">\n",
              "  <thead>\n",
              "    <tr style=\"text-align: right;\">\n",
              "      <th></th>\n",
              "      <th>cid</th>\n",
              "      <th>name</th>\n",
              "      <th>type</th>\n",
              "      <th>notnull</th>\n",
              "      <th>dflt_value</th>\n",
              "      <th>pk</th>\n",
              "    </tr>\n",
              "  </thead>\n",
              "  <tbody>\n",
              "    <tr>\n",
              "      <th>0</th>\n",
              "      <td>0</td>\n",
              "      <td>title_id</td>\n",
              "      <td>VARCHAR</td>\n",
              "      <td>0</td>\n",
              "      <td>None</td>\n",
              "      <td>1</td>\n",
              "    </tr>\n",
              "    <tr>\n",
              "      <th>1</th>\n",
              "      <td>1</td>\n",
              "      <td>type</td>\n",
              "      <td>VARCHAR</td>\n",
              "      <td>0</td>\n",
              "      <td>None</td>\n",
              "      <td>0</td>\n",
              "    </tr>\n",
              "    <tr>\n",
              "      <th>2</th>\n",
              "      <td>2</td>\n",
              "      <td>primary_title</td>\n",
              "      <td>VARCHAR</td>\n",
              "      <td>0</td>\n",
              "      <td>None</td>\n",
              "      <td>0</td>\n",
              "    </tr>\n",
              "    <tr>\n",
              "      <th>3</th>\n",
              "      <td>3</td>\n",
              "      <td>original_title</td>\n",
              "      <td>VARCHAR</td>\n",
              "      <td>0</td>\n",
              "      <td>None</td>\n",
              "      <td>0</td>\n",
              "    </tr>\n",
              "    <tr>\n",
              "      <th>4</th>\n",
              "      <td>4</td>\n",
              "      <td>is_adult</td>\n",
              "      <td>INTEGER</td>\n",
              "      <td>0</td>\n",
              "      <td>None</td>\n",
              "      <td>0</td>\n",
              "    </tr>\n",
              "    <tr>\n",
              "      <th>5</th>\n",
              "      <td>5</td>\n",
              "      <td>premiered</td>\n",
              "      <td>INTEGER</td>\n",
              "      <td>0</td>\n",
              "      <td>None</td>\n",
              "      <td>0</td>\n",
              "    </tr>\n",
              "    <tr>\n",
              "      <th>6</th>\n",
              "      <td>6</td>\n",
              "      <td>ended</td>\n",
              "      <td>INTEGER</td>\n",
              "      <td>0</td>\n",
              "      <td>None</td>\n",
              "      <td>0</td>\n",
              "    </tr>\n",
              "    <tr>\n",
              "      <th>7</th>\n",
              "      <td>7</td>\n",
              "      <td>runtime_minutes</td>\n",
              "      <td>INTEGER</td>\n",
              "      <td>0</td>\n",
              "      <td>None</td>\n",
              "      <td>0</td>\n",
              "    </tr>\n",
              "    <tr>\n",
              "      <th>8</th>\n",
              "      <td>8</td>\n",
              "      <td>genres</td>\n",
              "      <td>VARCHAR</td>\n",
              "      <td>0</td>\n",
              "      <td>None</td>\n",
              "      <td>0</td>\n",
              "    </tr>\n",
              "  </tbody>\n",
              "</table>\n",
              "</div>"
            ],
            "text/plain": [
              "   cid             name     type  notnull dflt_value  pk\n",
              "0    0         title_id  VARCHAR        0       None   1\n",
              "1    1             type  VARCHAR        0       None   0\n",
              "2    2    primary_title  VARCHAR        0       None   0\n",
              "3    3   original_title  VARCHAR        0       None   0\n",
              "4    4         is_adult  INTEGER        0       None   0\n",
              "5    5        premiered  INTEGER        0       None   0\n",
              "6    6            ended  INTEGER        0       None   0\n",
              "7    7  runtime_minutes  INTEGER        0       None   0\n",
              "8    8           genres  VARCHAR        0       None   0"
            ]
          },
          "metadata": {
            "tags": []
          }
        },
        {
          "output_type": "stream",
          "text": [
            "----------------------------------------------------------------------------------------------------\n",
            "\n",
            "\n",
            "Esquema da tabela: akas\n"
          ],
          "name": "stdout"
        },
        {
          "output_type": "display_data",
          "data": {
            "text/html": [
              "<div>\n",
              "<style scoped>\n",
              "    .dataframe tbody tr th:only-of-type {\n",
              "        vertical-align: middle;\n",
              "    }\n",
              "\n",
              "    .dataframe tbody tr th {\n",
              "        vertical-align: top;\n",
              "    }\n",
              "\n",
              "    .dataframe thead th {\n",
              "        text-align: right;\n",
              "    }\n",
              "</style>\n",
              "<table border=\"1\" class=\"dataframe\">\n",
              "  <thead>\n",
              "    <tr style=\"text-align: right;\">\n",
              "      <th></th>\n",
              "      <th>cid</th>\n",
              "      <th>name</th>\n",
              "      <th>type</th>\n",
              "      <th>notnull</th>\n",
              "      <th>dflt_value</th>\n",
              "      <th>pk</th>\n",
              "    </tr>\n",
              "  </thead>\n",
              "  <tbody>\n",
              "    <tr>\n",
              "      <th>0</th>\n",
              "      <td>0</td>\n",
              "      <td>title_id</td>\n",
              "      <td>VARCHAR</td>\n",
              "      <td>0</td>\n",
              "      <td>None</td>\n",
              "      <td>0</td>\n",
              "    </tr>\n",
              "    <tr>\n",
              "      <th>1</th>\n",
              "      <td>1</td>\n",
              "      <td>title</td>\n",
              "      <td>VARCHAR</td>\n",
              "      <td>0</td>\n",
              "      <td>None</td>\n",
              "      <td>0</td>\n",
              "    </tr>\n",
              "    <tr>\n",
              "      <th>2</th>\n",
              "      <td>2</td>\n",
              "      <td>region</td>\n",
              "      <td>VARCHAR</td>\n",
              "      <td>0</td>\n",
              "      <td>None</td>\n",
              "      <td>0</td>\n",
              "    </tr>\n",
              "    <tr>\n",
              "      <th>3</th>\n",
              "      <td>3</td>\n",
              "      <td>language</td>\n",
              "      <td>VARCHAR</td>\n",
              "      <td>0</td>\n",
              "      <td>None</td>\n",
              "      <td>0</td>\n",
              "    </tr>\n",
              "    <tr>\n",
              "      <th>4</th>\n",
              "      <td>4</td>\n",
              "      <td>types</td>\n",
              "      <td>VARCHAR</td>\n",
              "      <td>0</td>\n",
              "      <td>None</td>\n",
              "      <td>0</td>\n",
              "    </tr>\n",
              "    <tr>\n",
              "      <th>5</th>\n",
              "      <td>5</td>\n",
              "      <td>attributes</td>\n",
              "      <td>VARCHAR</td>\n",
              "      <td>0</td>\n",
              "      <td>None</td>\n",
              "      <td>0</td>\n",
              "    </tr>\n",
              "    <tr>\n",
              "      <th>6</th>\n",
              "      <td>6</td>\n",
              "      <td>is_original_title</td>\n",
              "      <td>INTEGER</td>\n",
              "      <td>0</td>\n",
              "      <td>None</td>\n",
              "      <td>0</td>\n",
              "    </tr>\n",
              "  </tbody>\n",
              "</table>\n",
              "</div>"
            ],
            "text/plain": [
              "   cid               name     type  notnull dflt_value  pk\n",
              "0    0           title_id  VARCHAR        0       None   0\n",
              "1    1              title  VARCHAR        0       None   0\n",
              "2    2             region  VARCHAR        0       None   0\n",
              "3    3           language  VARCHAR        0       None   0\n",
              "4    4              types  VARCHAR        0       None   0\n",
              "5    5         attributes  VARCHAR        0       None   0\n",
              "6    6  is_original_title  INTEGER        0       None   0"
            ]
          },
          "metadata": {
            "tags": []
          }
        },
        {
          "output_type": "stream",
          "text": [
            "----------------------------------------------------------------------------------------------------\n",
            "\n",
            "\n",
            "Esquema da tabela: crew\n"
          ],
          "name": "stdout"
        },
        {
          "output_type": "display_data",
          "data": {
            "text/html": [
              "<div>\n",
              "<style scoped>\n",
              "    .dataframe tbody tr th:only-of-type {\n",
              "        vertical-align: middle;\n",
              "    }\n",
              "\n",
              "    .dataframe tbody tr th {\n",
              "        vertical-align: top;\n",
              "    }\n",
              "\n",
              "    .dataframe thead th {\n",
              "        text-align: right;\n",
              "    }\n",
              "</style>\n",
              "<table border=\"1\" class=\"dataframe\">\n",
              "  <thead>\n",
              "    <tr style=\"text-align: right;\">\n",
              "      <th></th>\n",
              "      <th>cid</th>\n",
              "      <th>name</th>\n",
              "      <th>type</th>\n",
              "      <th>notnull</th>\n",
              "      <th>dflt_value</th>\n",
              "      <th>pk</th>\n",
              "    </tr>\n",
              "  </thead>\n",
              "  <tbody>\n",
              "    <tr>\n",
              "      <th>0</th>\n",
              "      <td>0</td>\n",
              "      <td>title_id</td>\n",
              "      <td>VARCHAR</td>\n",
              "      <td>0</td>\n",
              "      <td>None</td>\n",
              "      <td>0</td>\n",
              "    </tr>\n",
              "    <tr>\n",
              "      <th>1</th>\n",
              "      <td>1</td>\n",
              "      <td>person_id</td>\n",
              "      <td>VARCHAR</td>\n",
              "      <td>0</td>\n",
              "      <td>None</td>\n",
              "      <td>0</td>\n",
              "    </tr>\n",
              "    <tr>\n",
              "      <th>2</th>\n",
              "      <td>2</td>\n",
              "      <td>category</td>\n",
              "      <td>VARCHAR</td>\n",
              "      <td>0</td>\n",
              "      <td>None</td>\n",
              "      <td>0</td>\n",
              "    </tr>\n",
              "    <tr>\n",
              "      <th>3</th>\n",
              "      <td>3</td>\n",
              "      <td>job</td>\n",
              "      <td>VARCHAR</td>\n",
              "      <td>0</td>\n",
              "      <td>None</td>\n",
              "      <td>0</td>\n",
              "    </tr>\n",
              "    <tr>\n",
              "      <th>4</th>\n",
              "      <td>4</td>\n",
              "      <td>characters</td>\n",
              "      <td>VARCHAR</td>\n",
              "      <td>0</td>\n",
              "      <td>None</td>\n",
              "      <td>0</td>\n",
              "    </tr>\n",
              "  </tbody>\n",
              "</table>\n",
              "</div>"
            ],
            "text/plain": [
              "   cid        name     type  notnull dflt_value  pk\n",
              "0    0    title_id  VARCHAR        0       None   0\n",
              "1    1   person_id  VARCHAR        0       None   0\n",
              "2    2    category  VARCHAR        0       None   0\n",
              "3    3         job  VARCHAR        0       None   0\n",
              "4    4  characters  VARCHAR        0       None   0"
            ]
          },
          "metadata": {
            "tags": []
          }
        },
        {
          "output_type": "stream",
          "text": [
            "----------------------------------------------------------------------------------------------------\n",
            "\n",
            "\n",
            "Esquema da tabela: episodes\n"
          ],
          "name": "stdout"
        },
        {
          "output_type": "display_data",
          "data": {
            "text/html": [
              "<div>\n",
              "<style scoped>\n",
              "    .dataframe tbody tr th:only-of-type {\n",
              "        vertical-align: middle;\n",
              "    }\n",
              "\n",
              "    .dataframe tbody tr th {\n",
              "        vertical-align: top;\n",
              "    }\n",
              "\n",
              "    .dataframe thead th {\n",
              "        text-align: right;\n",
              "    }\n",
              "</style>\n",
              "<table border=\"1\" class=\"dataframe\">\n",
              "  <thead>\n",
              "    <tr style=\"text-align: right;\">\n",
              "      <th></th>\n",
              "      <th>cid</th>\n",
              "      <th>name</th>\n",
              "      <th>type</th>\n",
              "      <th>notnull</th>\n",
              "      <th>dflt_value</th>\n",
              "      <th>pk</th>\n",
              "    </tr>\n",
              "  </thead>\n",
              "  <tbody>\n",
              "    <tr>\n",
              "      <th>0</th>\n",
              "      <td>0</td>\n",
              "      <td>episode_title_id</td>\n",
              "      <td>INTEGER</td>\n",
              "      <td>0</td>\n",
              "      <td>None</td>\n",
              "      <td>0</td>\n",
              "    </tr>\n",
              "    <tr>\n",
              "      <th>1</th>\n",
              "      <td>1</td>\n",
              "      <td>show_title_id</td>\n",
              "      <td>INTEGER</td>\n",
              "      <td>0</td>\n",
              "      <td>None</td>\n",
              "      <td>0</td>\n",
              "    </tr>\n",
              "    <tr>\n",
              "      <th>2</th>\n",
              "      <td>2</td>\n",
              "      <td>season_number</td>\n",
              "      <td>INTEGER</td>\n",
              "      <td>0</td>\n",
              "      <td>None</td>\n",
              "      <td>0</td>\n",
              "    </tr>\n",
              "    <tr>\n",
              "      <th>3</th>\n",
              "      <td>3</td>\n",
              "      <td>eposide_number</td>\n",
              "      <td>INTEGER</td>\n",
              "      <td>0</td>\n",
              "      <td>None</td>\n",
              "      <td>0</td>\n",
              "    </tr>\n",
              "  </tbody>\n",
              "</table>\n",
              "</div>"
            ],
            "text/plain": [
              "   cid              name     type  notnull dflt_value  pk\n",
              "0    0  episode_title_id  INTEGER        0       None   0\n",
              "1    1     show_title_id  INTEGER        0       None   0\n",
              "2    2     season_number  INTEGER        0       None   0\n",
              "3    3    eposide_number  INTEGER        0       None   0"
            ]
          },
          "metadata": {
            "tags": []
          }
        },
        {
          "output_type": "stream",
          "text": [
            "----------------------------------------------------------------------------------------------------\n",
            "\n",
            "\n",
            "Esquema da tabela: ratings\n"
          ],
          "name": "stdout"
        },
        {
          "output_type": "display_data",
          "data": {
            "text/html": [
              "<div>\n",
              "<style scoped>\n",
              "    .dataframe tbody tr th:only-of-type {\n",
              "        vertical-align: middle;\n",
              "    }\n",
              "\n",
              "    .dataframe tbody tr th {\n",
              "        vertical-align: top;\n",
              "    }\n",
              "\n",
              "    .dataframe thead th {\n",
              "        text-align: right;\n",
              "    }\n",
              "</style>\n",
              "<table border=\"1\" class=\"dataframe\">\n",
              "  <thead>\n",
              "    <tr style=\"text-align: right;\">\n",
              "      <th></th>\n",
              "      <th>cid</th>\n",
              "      <th>name</th>\n",
              "      <th>type</th>\n",
              "      <th>notnull</th>\n",
              "      <th>dflt_value</th>\n",
              "      <th>pk</th>\n",
              "    </tr>\n",
              "  </thead>\n",
              "  <tbody>\n",
              "    <tr>\n",
              "      <th>0</th>\n",
              "      <td>0</td>\n",
              "      <td>title_id</td>\n",
              "      <td>VARCHAR</td>\n",
              "      <td>0</td>\n",
              "      <td>None</td>\n",
              "      <td>1</td>\n",
              "    </tr>\n",
              "    <tr>\n",
              "      <th>1</th>\n",
              "      <td>1</td>\n",
              "      <td>rating</td>\n",
              "      <td>INTEGER</td>\n",
              "      <td>0</td>\n",
              "      <td>None</td>\n",
              "      <td>0</td>\n",
              "    </tr>\n",
              "    <tr>\n",
              "      <th>2</th>\n",
              "      <td>2</td>\n",
              "      <td>votes</td>\n",
              "      <td>INTEGER</td>\n",
              "      <td>0</td>\n",
              "      <td>None</td>\n",
              "      <td>0</td>\n",
              "    </tr>\n",
              "  </tbody>\n",
              "</table>\n",
              "</div>"
            ],
            "text/plain": [
              "   cid      name     type  notnull dflt_value  pk\n",
              "0    0  title_id  VARCHAR        0       None   1\n",
              "1    1    rating  INTEGER        0       None   0\n",
              "2    2     votes  INTEGER        0       None   0"
            ]
          },
          "metadata": {
            "tags": []
          }
        },
        {
          "output_type": "stream",
          "text": [
            "----------------------------------------------------------------------------------------------------\n",
            "\n",
            "\n"
          ],
          "name": "stdout"
        }
      ]
    },
    {
      "cell_type": "markdown",
      "metadata": {
        "id": "Pqd43Ab2F6Or"
      },
      "source": [
        "> Agora começamos a Análise Exploratória dos Dados."
      ]
    },
    {
      "cell_type": "markdown",
      "metadata": {
        "id": "m6W_XSp3yBSL"
      },
      "source": [
        "## 1- Quais São as Categorias de Filmes Mais Comuns no IMDB?\n",
        "\n",
        "Quais são os principais tipos (categorias) dos títulos (filmes)?"
      ]
    },
    {
      "cell_type": "code",
      "metadata": {
        "id": "72tvpOmJGTni"
      },
      "source": [
        "# Cria a consulta SQL\n",
        "consulta1 = '''SELECT type, COUNT(*) AS COUNT FROM titles GROUP BY type''' "
      ],
      "execution_count": 12,
      "outputs": []
    },
    {
      "cell_type": "code",
      "metadata": {
        "id": "rdUt5EQDF6Os"
      },
      "source": [
        "# Extrai o resultado\n",
        "resultado1 = pd.read_sql_query(consulta1, conn)"
      ],
      "execution_count": 13,
      "outputs": []
    },
    {
      "cell_type": "code",
      "metadata": {
        "colab": {
          "base_uri": "https://localhost:8080/",
          "height": 421
        },
        "id": "HYgZRXHyRcK1",
        "outputId": "9a5c53c7-13c0-462b-afaf-eb2e9470c9c3"
      },
      "source": [
        "# Visualiza o resultado\n",
        "display(resultado1)"
      ],
      "execution_count": 14,
      "outputs": [
        {
          "output_type": "display_data",
          "data": {
            "text/html": [
              "<div>\n",
              "<style scoped>\n",
              "    .dataframe tbody tr th:only-of-type {\n",
              "        vertical-align: middle;\n",
              "    }\n",
              "\n",
              "    .dataframe tbody tr th {\n",
              "        vertical-align: top;\n",
              "    }\n",
              "\n",
              "    .dataframe thead th {\n",
              "        text-align: right;\n",
              "    }\n",
              "</style>\n",
              "<table border=\"1\" class=\"dataframe\">\n",
              "  <thead>\n",
              "    <tr style=\"text-align: right;\">\n",
              "      <th></th>\n",
              "      <th>type</th>\n",
              "      <th>COUNT</th>\n",
              "    </tr>\n",
              "  </thead>\n",
              "  <tbody>\n",
              "    <tr>\n",
              "      <th>0</th>\n",
              "      <td>movie</td>\n",
              "      <td>584168</td>\n",
              "    </tr>\n",
              "    <tr>\n",
              "      <th>1</th>\n",
              "      <td>radioEpisode</td>\n",
              "      <td>1</td>\n",
              "    </tr>\n",
              "    <tr>\n",
              "      <th>2</th>\n",
              "      <td>radioSeries</td>\n",
              "      <td>1</td>\n",
              "    </tr>\n",
              "    <tr>\n",
              "      <th>3</th>\n",
              "      <td>short</td>\n",
              "      <td>824012</td>\n",
              "    </tr>\n",
              "    <tr>\n",
              "      <th>4</th>\n",
              "      <td>tvEpisode</td>\n",
              "      <td>5961328</td>\n",
              "    </tr>\n",
              "    <tr>\n",
              "      <th>5</th>\n",
              "      <td>tvMiniSeries</td>\n",
              "      <td>38640</td>\n",
              "    </tr>\n",
              "    <tr>\n",
              "      <th>6</th>\n",
              "      <td>tvMovie</td>\n",
              "      <td>132403</td>\n",
              "    </tr>\n",
              "    <tr>\n",
              "      <th>7</th>\n",
              "      <td>tvSeries</td>\n",
              "      <td>212000</td>\n",
              "    </tr>\n",
              "    <tr>\n",
              "      <th>8</th>\n",
              "      <td>tvShort</td>\n",
              "      <td>10159</td>\n",
              "    </tr>\n",
              "    <tr>\n",
              "      <th>9</th>\n",
              "      <td>tvSpecial</td>\n",
              "      <td>33574</td>\n",
              "    </tr>\n",
              "    <tr>\n",
              "      <th>10</th>\n",
              "      <td>video</td>\n",
              "      <td>316419</td>\n",
              "    </tr>\n",
              "    <tr>\n",
              "      <th>11</th>\n",
              "      <td>videoGame</td>\n",
              "      <td>28750</td>\n",
              "    </tr>\n",
              "  </tbody>\n",
              "</table>\n",
              "</div>"
            ],
            "text/plain": [
              "            type    COUNT\n",
              "0          movie   584168\n",
              "1   radioEpisode        1\n",
              "2    radioSeries        1\n",
              "3          short   824012\n",
              "4      tvEpisode  5961328\n",
              "5   tvMiniSeries    38640\n",
              "6        tvMovie   132403\n",
              "7       tvSeries   212000\n",
              "8        tvShort    10159\n",
              "9      tvSpecial    33574\n",
              "10         video   316419\n",
              "11     videoGame    28750"
            ]
          },
          "metadata": {
            "tags": []
          }
        }
      ]
    },
    {
      "cell_type": "code",
      "metadata": {
        "id": "oUsal5PCh701"
      },
      "source": [
        "# Vamos calcular o percentual para cada tipo\n",
        "resultado1['percentual'] = (resultado1['COUNT'] / resultado1['COUNT'].sum()) * 100"
      ],
      "execution_count": 15,
      "outputs": []
    },
    {
      "cell_type": "code",
      "metadata": {
        "colab": {
          "base_uri": "https://localhost:8080/",
          "height": 421
        },
        "id": "6VKXUgxOF6Ot",
        "outputId": "fb2ca640-b7a3-415d-a33e-ecc0d469e6f1"
      },
      "source": [
        "# Visualiza o resultado\n",
        "display(resultado1)"
      ],
      "execution_count": 16,
      "outputs": [
        {
          "output_type": "display_data",
          "data": {
            "text/html": [
              "<div>\n",
              "<style scoped>\n",
              "    .dataframe tbody tr th:only-of-type {\n",
              "        vertical-align: middle;\n",
              "    }\n",
              "\n",
              "    .dataframe tbody tr th {\n",
              "        vertical-align: top;\n",
              "    }\n",
              "\n",
              "    .dataframe thead th {\n",
              "        text-align: right;\n",
              "    }\n",
              "</style>\n",
              "<table border=\"1\" class=\"dataframe\">\n",
              "  <thead>\n",
              "    <tr style=\"text-align: right;\">\n",
              "      <th></th>\n",
              "      <th>type</th>\n",
              "      <th>COUNT</th>\n",
              "      <th>percentual</th>\n",
              "    </tr>\n",
              "  </thead>\n",
              "  <tbody>\n",
              "    <tr>\n",
              "      <th>0</th>\n",
              "      <td>movie</td>\n",
              "      <td>584168</td>\n",
              "      <td>7.175229</td>\n",
              "    </tr>\n",
              "    <tr>\n",
              "      <th>1</th>\n",
              "      <td>radioEpisode</td>\n",
              "      <td>1</td>\n",
              "      <td>0.000012</td>\n",
              "    </tr>\n",
              "    <tr>\n",
              "      <th>2</th>\n",
              "      <td>radioSeries</td>\n",
              "      <td>1</td>\n",
              "      <td>0.000012</td>\n",
              "    </tr>\n",
              "    <tr>\n",
              "      <th>3</th>\n",
              "      <td>short</td>\n",
              "      <td>824012</td>\n",
              "      <td>10.121188</td>\n",
              "    </tr>\n",
              "    <tr>\n",
              "      <th>4</th>\n",
              "      <td>tvEpisode</td>\n",
              "      <td>5961328</td>\n",
              "      <td>73.221900</td>\n",
              "    </tr>\n",
              "    <tr>\n",
              "      <th>5</th>\n",
              "      <td>tvMiniSeries</td>\n",
              "      <td>38640</td>\n",
              "      <td>0.474608</td>\n",
              "    </tr>\n",
              "    <tr>\n",
              "      <th>6</th>\n",
              "      <td>tvMovie</td>\n",
              "      <td>132403</td>\n",
              "      <td>1.626282</td>\n",
              "    </tr>\n",
              "    <tr>\n",
              "      <th>7</th>\n",
              "      <td>tvSeries</td>\n",
              "      <td>212000</td>\n",
              "      <td>2.603957</td>\n",
              "    </tr>\n",
              "    <tr>\n",
              "      <th>8</th>\n",
              "      <td>tvShort</td>\n",
              "      <td>10159</td>\n",
              "      <td>0.124781</td>\n",
              "    </tr>\n",
              "    <tr>\n",
              "      <th>9</th>\n",
              "      <td>tvSpecial</td>\n",
              "      <td>33574</td>\n",
              "      <td>0.412383</td>\n",
              "    </tr>\n",
              "    <tr>\n",
              "      <th>10</th>\n",
              "      <td>video</td>\n",
              "      <td>316419</td>\n",
              "      <td>3.886517</td>\n",
              "    </tr>\n",
              "    <tr>\n",
              "      <th>11</th>\n",
              "      <td>videoGame</td>\n",
              "      <td>28750</td>\n",
              "      <td>0.353131</td>\n",
              "    </tr>\n",
              "  </tbody>\n",
              "</table>\n",
              "</div>"
            ],
            "text/plain": [
              "            type    COUNT  percentual\n",
              "0          movie   584168    7.175229\n",
              "1   radioEpisode        1    0.000012\n",
              "2    radioSeries        1    0.000012\n",
              "3          short   824012   10.121188\n",
              "4      tvEpisode  5961328   73.221900\n",
              "5   tvMiniSeries    38640    0.474608\n",
              "6        tvMovie   132403    1.626282\n",
              "7       tvSeries   212000    2.603957\n",
              "8        tvShort    10159    0.124781\n",
              "9      tvSpecial    33574    0.412383\n",
              "10         video   316419    3.886517\n",
              "11     videoGame    28750    0.353131"
            ]
          },
          "metadata": {
            "tags": []
          }
        }
      ]
    },
    {
      "cell_type": "code",
      "metadata": {
        "id": "oWJrmfjHyBpW"
      },
      "source": [
        "# Vamos criar um gráfico com apenas 4 categorias:\n",
        "# As 3 categorias com mais títulos e 1 categoria com todo o restante\n",
        "\n",
        "# Cria um dicionário vazio\n",
        "others = {}\n",
        "\n",
        "# Filtra o percentual em 5% e soma o total\n",
        "others['COUNT'] = resultado1[resultado1['percentual'] < 5]['COUNT'].sum()\n",
        "\n",
        "# Grava o percentual\n",
        "others['percentual'] = resultado1[resultado1['percentual'] < 5]['percentual'].sum()\n",
        "\n",
        "# Ajusta o nome\n",
        "others['type'] = 'others'"
      ],
      "execution_count": 17,
      "outputs": []
    },
    {
      "cell_type": "code",
      "metadata": {
        "colab": {
          "base_uri": "https://localhost:8080/"
        },
        "id": "sKWxpcrHF6Ou",
        "outputId": "a39455fe-ebed-4af8-e3b3-a2ff1e8b980c"
      },
      "source": [
        "# Visualiza\n",
        "others"
      ],
      "execution_count": 18,
      "outputs": [
        {
          "output_type": "execute_result",
          "data": {
            "text/plain": [
              "{'COUNT': 771947, 'percentual': 9.481683556563294, 'type': 'others'}"
            ]
          },
          "metadata": {
            "tags": []
          },
          "execution_count": 18
        }
      ]
    },
    {
      "cell_type": "code",
      "metadata": {
        "id": "H7WDZkbeyHz7"
      },
      "source": [
        "# Filtra o dataframe de resultado\n",
        "resultado1 = resultado1[resultado1['percentual'] > 5]"
      ],
      "execution_count": 19,
      "outputs": []
    },
    {
      "cell_type": "code",
      "metadata": {
        "id": "Vt35FMu8F6Ou"
      },
      "source": [
        "# Append com o dataframe de outras categorias\n",
        "resultado1 = resultado1.append(others, ignore_index = True)"
      ],
      "execution_count": 20,
      "outputs": []
    },
    {
      "cell_type": "code",
      "metadata": {
        "id": "K5mJGmqMyMaf"
      },
      "source": [
        "# Ordena o resultado\n",
        "resultado1 = resultado1.sort_values(by = 'COUNT', ascending = False)"
      ],
      "execution_count": 21,
      "outputs": []
    },
    {
      "cell_type": "code",
      "metadata": {
        "colab": {
          "base_uri": "https://localhost:8080/",
          "height": 173
        },
        "id": "S-SGDhNnF6Ov",
        "outputId": "c8b4594b-180d-434d-e272-78f79632a780"
      },
      "source": [
        "# Visualiza\n",
        "resultado1.head()"
      ],
      "execution_count": 22,
      "outputs": [
        {
          "output_type": "execute_result",
          "data": {
            "text/html": [
              "<div>\n",
              "<style scoped>\n",
              "    .dataframe tbody tr th:only-of-type {\n",
              "        vertical-align: middle;\n",
              "    }\n",
              "\n",
              "    .dataframe tbody tr th {\n",
              "        vertical-align: top;\n",
              "    }\n",
              "\n",
              "    .dataframe thead th {\n",
              "        text-align: right;\n",
              "    }\n",
              "</style>\n",
              "<table border=\"1\" class=\"dataframe\">\n",
              "  <thead>\n",
              "    <tr style=\"text-align: right;\">\n",
              "      <th></th>\n",
              "      <th>type</th>\n",
              "      <th>COUNT</th>\n",
              "      <th>percentual</th>\n",
              "    </tr>\n",
              "  </thead>\n",
              "  <tbody>\n",
              "    <tr>\n",
              "      <th>2</th>\n",
              "      <td>tvEpisode</td>\n",
              "      <td>5961328</td>\n",
              "      <td>73.221900</td>\n",
              "    </tr>\n",
              "    <tr>\n",
              "      <th>1</th>\n",
              "      <td>short</td>\n",
              "      <td>824012</td>\n",
              "      <td>10.121188</td>\n",
              "    </tr>\n",
              "    <tr>\n",
              "      <th>3</th>\n",
              "      <td>others</td>\n",
              "      <td>771947</td>\n",
              "      <td>9.481684</td>\n",
              "    </tr>\n",
              "    <tr>\n",
              "      <th>0</th>\n",
              "      <td>movie</td>\n",
              "      <td>584168</td>\n",
              "      <td>7.175229</td>\n",
              "    </tr>\n",
              "  </tbody>\n",
              "</table>\n",
              "</div>"
            ],
            "text/plain": [
              "        type    COUNT  percentual\n",
              "2  tvEpisode  5961328   73.221900\n",
              "1      short   824012   10.121188\n",
              "3     others   771947    9.481684\n",
              "0      movie   584168    7.175229"
            ]
          },
          "metadata": {
            "tags": []
          },
          "execution_count": 22
        }
      ]
    },
    {
      "cell_type": "code",
      "metadata": {
        "id": "GAYplyYoF6Ox"
      },
      "source": [
        "# Ajusta os labels\n",
        "labels = [str(resultado1['type'][i])+' '+'['+str(round(resultado1['percentual'][i],2)) +'%'+']' for i in resultado1.index]"
      ],
      "execution_count": 23,
      "outputs": []
    },
    {
      "cell_type": "code",
      "metadata": {
        "colab": {
          "base_uri": "https://localhost:8080/",
          "height": 559
        },
        "id": "2_ugTEy_HmoQ",
        "outputId": "32b24a77-8617-4743-e2a9-efd52e049bc8"
      },
      "source": [
        "# Plot\n",
        "\n",
        "# Mapa de cores\n",
        "# https://matplotlib.org/stable/tutorials/colors/colormaps.html\n",
        "cs = cm.Set3(np.arange(100))\n",
        "\n",
        "# Cria a figura\n",
        "f = plt.figure()\n",
        "\n",
        "# Pie Plot\n",
        "plt.pie(resultado1['COUNT'], labeldistance = 1, radius = 3, colors = cs, wedgeprops = dict(width = 0.8))\n",
        "plt.legend(labels = labels, loc = 'center', prop = {'size':12})\n",
        "plt.title(\"Distribuição de Títulos\", loc = 'Center', fontdict = {'fontsize':20,'fontweight':20})\n",
        "plt.show()"
      ],
      "execution_count": 24,
      "outputs": [
        {
          "output_type": "display_data",
          "data": {
            "image/png": "[encoded data removed]",
            "text/plain": [
              "<Figure size 432x288 with 1 Axes>"
            ]
          },
          "metadata": {
            "tags": []
          }
        }
      ]
    },
    {
      "cell_type": "markdown",
      "metadata": {
        "id": "CWF1erMywd2w"
      },
      "source": [
        "## 2- Qual o Número de Títulos Por Gênero?\n",
        "\n",
        "Vamos calcular o número de filmes por gênero e entregar o resultado em valor percentual."
      ]
    },
    {
      "cell_type": "code",
      "metadata": {
        "id": "1oY3-f_ulQmh"
      },
      "source": [
        "# Cria a consulta SQL\n",
        "consulta2 = '''SELECT genres, COUNT(*) FROM titles WHERE type = 'movie' GROUP BY genres''' "
      ],
      "execution_count": 25,
      "outputs": []
    },
    {
      "cell_type": "code",
      "metadata": {
        "id": "9MRMrFIGF6Oy"
      },
      "source": [
        "# Resultado\n",
        "resultado2 = pd.read_sql_query(consulta2, conn)"
      ],
      "execution_count": 26,
      "outputs": []
    },
    {
      "cell_type": "code",
      "metadata": {
        "colab": {
          "base_uri": "https://localhost:8080/",
          "height": 419
        },
        "id": "BbG_fhq4F6Oy",
        "outputId": "76e84c08-d1b2-48f8-9ab0-48fb2042688c"
      },
      "source": [
        "# Visualiza o resultado\n",
        "display(resultado2)"
      ],
      "execution_count": 27,
      "outputs": [
        {
          "output_type": "display_data",
          "data": {
            "text/html": [
              "<div>\n",
              "<style scoped>\n",
              "    .dataframe tbody tr th:only-of-type {\n",
              "        vertical-align: middle;\n",
              "    }\n",
              "\n",
              "    .dataframe tbody tr th {\n",
              "        vertical-align: top;\n",
              "    }\n",
              "\n",
              "    .dataframe thead th {\n",
              "        text-align: right;\n",
              "    }\n",
              "</style>\n",
              "<table border=\"1\" class=\"dataframe\">\n",
              "  <thead>\n",
              "    <tr style=\"text-align: right;\">\n",
              "      <th></th>\n",
              "      <th>genres</th>\n",
              "      <th>COUNT(*)</th>\n",
              "    </tr>\n",
              "  </thead>\n",
              "  <tbody>\n",
              "    <tr>\n",
              "      <th>0</th>\n",
              "      <td>Action</td>\n",
              "      <td>13301</td>\n",
              "    </tr>\n",
              "    <tr>\n",
              "      <th>1</th>\n",
              "      <td>Action,Adult</td>\n",
              "      <td>11</td>\n",
              "    </tr>\n",
              "    <tr>\n",
              "      <th>2</th>\n",
              "      <td>Action,Adult,Adventure</td>\n",
              "      <td>1</td>\n",
              "    </tr>\n",
              "    <tr>\n",
              "      <th>3</th>\n",
              "      <td>Action,Adult,Comedy</td>\n",
              "      <td>5</td>\n",
              "    </tr>\n",
              "    <tr>\n",
              "      <th>4</th>\n",
              "      <td>Action,Adult,Crime</td>\n",
              "      <td>10</td>\n",
              "    </tr>\n",
              "    <tr>\n",
              "      <th>...</th>\n",
              "      <td>...</td>\n",
              "      <td>...</td>\n",
              "    </tr>\n",
              "    <tr>\n",
              "      <th>1439</th>\n",
              "      <td>Thriller,Western</td>\n",
              "      <td>38</td>\n",
              "    </tr>\n",
              "    <tr>\n",
              "      <th>1440</th>\n",
              "      <td>War</td>\n",
              "      <td>1249</td>\n",
              "    </tr>\n",
              "    <tr>\n",
              "      <th>1441</th>\n",
              "      <td>War,Western</td>\n",
              "      <td>9</td>\n",
              "    </tr>\n",
              "    <tr>\n",
              "      <th>1442</th>\n",
              "      <td>Western</td>\n",
              "      <td>4032</td>\n",
              "    </tr>\n",
              "    <tr>\n",
              "      <th>1443</th>\n",
              "      <td>\\N</td>\n",
              "      <td>70555</td>\n",
              "    </tr>\n",
              "  </tbody>\n",
              "</table>\n",
              "<p>1444 rows × 2 columns</p>\n",
              "</div>"
            ],
            "text/plain": [
              "                      genres  COUNT(*)\n",
              "0                     Action     13301\n",
              "1               Action,Adult        11\n",
              "2     Action,Adult,Adventure         1\n",
              "3        Action,Adult,Comedy         5\n",
              "4         Action,Adult,Crime        10\n",
              "...                      ...       ...\n",
              "1439        Thriller,Western        38\n",
              "1440                     War      1249\n",
              "1441             War,Western         9\n",
              "1442                 Western      4032\n",
              "1443                      \\N     70555\n",
              "\n",
              "[1444 rows x 2 columns]"
            ]
          },
          "metadata": {
            "tags": []
          }
        }
      ]
    },
    {
      "cell_type": "code",
      "metadata": {
        "id": "N_4ONbrYwEgW"
      },
      "source": [
        "# Converte as strings para minúsculo\n",
        "resultado2['genres'] = resultado2['genres'].str.lower().values"
      ],
      "execution_count": 28,
      "outputs": []
    },
    {
      "cell_type": "code",
      "metadata": {
        "id": "0E6ao2WBF6Oz"
      },
      "source": [
        "# Remove valores NA (ausentes)\n",
        "temp = resultado2['genres'].dropna()"
      ],
      "execution_count": 29,
      "outputs": []
    },
    {
      "cell_type": "markdown",
      "metadata": {
        "id": "MTGTyRNOF6Oz"
      },
      "source": [
        "Usamos o Countvectorizer para converter a coluna de gêneros em um vetor one-hot encoded para contar o número de filmes em cada gênero.\n",
        "\n",
        "![title](imagens/one-hot.png)"
      ]
    },
    {
      "cell_type": "code",
      "metadata": {
        "id": "G8jqwkiFF6Oz"
      },
      "source": [
        "# Vamos criar um vetor usando expressão regular para filtrar as strings\n",
        "\n",
        "# https://docs.python.org/3.8/library/re.html\n",
        "padrao = '(?u)\\\\b[\\\\w-]+\\\\b'\n",
        "\n",
        "# https://scikit-learn.org/stable/modules/generated/sklearn.feature_extraction.text.CountVectorizer.html\n",
        "vetor = CountVectorizer(token_pattern = padrao, analyzer = 'word').fit(temp)"
      ],
      "execution_count": 30,
      "outputs": []
    },
    {
      "cell_type": "code",
      "metadata": {
        "colab": {
          "base_uri": "https://localhost:8080/"
        },
        "id": "x1-yzuHkF6Oz",
        "outputId": "40661d6a-81be-4ccd-d552-635e63c64116"
      },
      "source": [
        "type(vetor)"
      ],
      "execution_count": 31,
      "outputs": [
        {
          "output_type": "execute_result",
          "data": {
            "text/plain": [
              "sklearn.feature_extraction.text.CountVectorizer"
            ]
          },
          "metadata": {
            "tags": []
          },
          "execution_count": 31
        }
      ]
    },
    {
      "cell_type": "code",
      "metadata": {
        "id": "yahXnP0LF6Oz"
      },
      "source": [
        "# Aplica a vetorização ao dataset sem valores NA\n",
        "bag_generos = vetor.transform(temp)"
      ],
      "execution_count": 32,
      "outputs": []
    },
    {
      "cell_type": "code",
      "metadata": {
        "colab": {
          "base_uri": "https://localhost:8080/"
        },
        "id": "FZ-2VXLcF6O0",
        "outputId": "3879b723-9ba5-40d0-8e9d-d9057c1a51d0"
      },
      "source": [
        "type(bag_generos)"
      ],
      "execution_count": 33,
      "outputs": [
        {
          "output_type": "execute_result",
          "data": {
            "text/plain": [
              "scipy.sparse.csr.csr_matrix"
            ]
          },
          "metadata": {
            "tags": []
          },
          "execution_count": 33
        }
      ]
    },
    {
      "cell_type": "code",
      "metadata": {
        "id": "66tUrzrzF6O0"
      },
      "source": [
        "# Retorna gêneros únicos\n",
        "generos_unicos =  vetor.get_feature_names()"
      ],
      "execution_count": 34,
      "outputs": []
    },
    {
      "cell_type": "code",
      "metadata": {
        "id": "C_HTLQkbl4r8"
      },
      "source": [
        "# Cria o dataframe de gêneros\n",
        "generos = pd.DataFrame(bag_generos.todense(), columns = generos_unicos, index = temp.index)"
      ],
      "execution_count": 35,
      "outputs": []
    },
    {
      "cell_type": "code",
      "metadata": {
        "colab": {
          "base_uri": "https://localhost:8080/"
        },
        "id": "jCcsoP0FF6O0",
        "outputId": "e772e470-3ccb-46db-d6c6-399db846ed97"
      },
      "source": [
        "# Visualiza\n",
        "generos.info()"
      ],
      "execution_count": 36,
      "outputs": [
        {
          "output_type": "stream",
          "text": [
            "<class 'pandas.core.frame.DataFrame'>\n",
            "Int64Index: 1444 entries, 0 to 1443\n",
            "Data columns (total 29 columns):\n",
            " #   Column       Non-Null Count  Dtype\n",
            "---  ------       --------------  -----\n",
            " 0   action       1444 non-null   int64\n",
            " 1   adult        1444 non-null   int64\n",
            " 2   adventure    1444 non-null   int64\n",
            " 3   animation    1444 non-null   int64\n",
            " 4   biography    1444 non-null   int64\n",
            " 5   comedy       1444 non-null   int64\n",
            " 6   crime        1444 non-null   int64\n",
            " 7   documentary  1444 non-null   int64\n",
            " 8   drama        1444 non-null   int64\n",
            " 9   family       1444 non-null   int64\n",
            " 10  fantasy      1444 non-null   int64\n",
            " 11  film-noir    1444 non-null   int64\n",
            " 12  game-show    1444 non-null   int64\n",
            " 13  history      1444 non-null   int64\n",
            " 14  horror       1444 non-null   int64\n",
            " 15  music        1444 non-null   int64\n",
            " 16  musical      1444 non-null   int64\n",
            " 17  mystery      1444 non-null   int64\n",
            " 18  n            1444 non-null   int64\n",
            " 19  news         1444 non-null   int64\n",
            " 20  reality-tv   1444 non-null   int64\n",
            " 21  romance      1444 non-null   int64\n",
            " 22  sci-fi       1444 non-null   int64\n",
            " 23  short        1444 non-null   int64\n",
            " 24  sport        1444 non-null   int64\n",
            " 25  talk-show    1444 non-null   int64\n",
            " 26  thriller     1444 non-null   int64\n",
            " 27  war          1444 non-null   int64\n",
            " 28  western      1444 non-null   int64\n",
            "dtypes: int64(29)\n",
            "memory usage: 338.4 KB\n"
          ],
          "name": "stdout"
        }
      ]
    },
    {
      "cell_type": "code",
      "metadata": {
        "id": "itCdVv5DF6O1"
      },
      "source": [
        "# Drop da coluna n\n",
        "generos = generos.drop(columns = 'n', axis = 0)"
      ],
      "execution_count": 37,
      "outputs": []
    },
    {
      "cell_type": "code",
      "metadata": {
        "id": "_KMzNUQyF6O1"
      },
      "source": [
        "# Calcula o percentual\n",
        "generos_percentual = 100 * pd.Series(generos.sum()).sort_values(ascending = False) / generos.shape[0]"
      ],
      "execution_count": 38,
      "outputs": []
    },
    {
      "cell_type": "code",
      "metadata": {
        "colab": {
          "base_uri": "https://localhost:8080/"
        },
        "id": "pZMHd19oF6O1",
        "outputId": "f303f817-37e2-4a54-fd00-c09feba041dd"
      },
      "source": [
        "# Visualiza\n",
        "generos_percentual.head(10)"
      ],
      "execution_count": 39,
      "outputs": [
        {
          "output_type": "execute_result",
          "data": {
            "text/plain": [
              "drama          18.421053\n",
              "comedy         16.828255\n",
              "documentary    15.997230\n",
              "adventure      14.889197\n",
              "action         14.612188\n",
              "romance        13.504155\n",
              "crime          13.019391\n",
              "mystery        12.603878\n",
              "thriller       12.396122\n",
              "fantasy        12.257618\n",
              "dtype: float64"
            ]
          },
          "metadata": {
            "tags": []
          },
          "execution_count": 39
        }
      ]
    },
    {
      "cell_type": "code",
      "metadata": {
        "colab": {
          "base_uri": "https://localhost:8080/",
          "height": 563
        },
        "id": "B0FNilBNF6O1",
        "outputId": "12c8457a-c6cd-4f77-fd82-264c62b86298"
      },
      "source": [
        "# Plot\n",
        "plt.figure(figsize = (16,8))\n",
        "sns.barplot(x = generos_percentual.values, y = generos_percentual.index, orient = \"h\", palette = \"terrain\")\n",
        "plt.ylabel('Gênero')             \n",
        "plt.xlabel(\"\\nPercentual de Filmes (%)\")\n",
        "plt.title('\\nNúmero (Percentual) de Títulos Por Gênero\\n')\n",
        "plt.show()"
      ],
      "execution_count": 40,
      "outputs": [
        {
          "output_type": "display_data",
          "data": {
            "image/png": "[encoded data removed]",
            "text/plain": [
              "<Figure size 1152x576 with 1 Axes>"
            ]
          },
          "metadata": {
            "tags": []
          }
        }
      ]
    },
    {
      "cell_type": "markdown",
      "metadata": {
        "id": "jRKl5x8YxoXO"
      },
      "source": [
        "## 3- Qual a Mediana de Avaliação dos Filmes Por Gênero?\n",
        "\n",
        "Mediana de avaliação dos filmes."
      ]
    },
    {
      "cell_type": "code",
      "metadata": {
        "id": "H6UC4vtt0QQG"
      },
      "source": [
        "# Consulta SQL\n",
        "consulta3 = '''\n",
        "            SELECT rating, genres FROM \n",
        "            ratings JOIN titles ON ratings.title_id = titles.title_id \n",
        "            WHERE premiered <= 2022 AND type = 'movie'\n",
        "            ''' "
      ],
      "execution_count": 41,
      "outputs": []
    },
    {
      "cell_type": "code",
      "metadata": {
        "id": "E_CvrjVMF6O2"
      },
      "source": [
        "# Resultado\n",
        "resultado3 = pd.read_sql_query(consulta3, conn)"
      ],
      "execution_count": 42,
      "outputs": []
    },
    {
      "cell_type": "code",
      "metadata": {
        "colab": {
          "base_uri": "https://localhost:8080/",
          "height": 419
        },
        "id": "gr4lAbY_F6O3",
        "outputId": "3973f3d8-55c5-4550-b6b0-cd50adbafb72"
      },
      "source": [
        "# Visualiza\n",
        "display(resultado3)"
      ],
      "execution_count": 43,
      "outputs": [
        {
          "output_type": "display_data",
          "data": {
            "text/html": [
              "<div>\n",
              "<style scoped>\n",
              "    .dataframe tbody tr th:only-of-type {\n",
              "        vertical-align: middle;\n",
              "    }\n",
              "\n",
              "    .dataframe tbody tr th {\n",
              "        vertical-align: top;\n",
              "    }\n",
              "\n",
              "    .dataframe thead th {\n",
              "        text-align: right;\n",
              "    }\n",
              "</style>\n",
              "<table border=\"1\" class=\"dataframe\">\n",
              "  <thead>\n",
              "    <tr style=\"text-align: right;\">\n",
              "      <th></th>\n",
              "      <th>rating</th>\n",
              "      <th>genres</th>\n",
              "    </tr>\n",
              "  </thead>\n",
              "  <tbody>\n",
              "    <tr>\n",
              "      <th>0</th>\n",
              "      <td>4.5</td>\n",
              "      <td>\\N</td>\n",
              "    </tr>\n",
              "    <tr>\n",
              "      <th>1</th>\n",
              "      <td>6.1</td>\n",
              "      <td>Action,Adventure,Biography</td>\n",
              "    </tr>\n",
              "    <tr>\n",
              "      <th>2</th>\n",
              "      <td>5.2</td>\n",
              "      <td>Drama</td>\n",
              "    </tr>\n",
              "    <tr>\n",
              "      <th>3</th>\n",
              "      <td>4.5</td>\n",
              "      <td>Drama</td>\n",
              "    </tr>\n",
              "    <tr>\n",
              "      <th>4</th>\n",
              "      <td>3.8</td>\n",
              "      <td>Drama</td>\n",
              "    </tr>\n",
              "    <tr>\n",
              "      <th>...</th>\n",
              "      <td>...</td>\n",
              "      <td>...</td>\n",
              "    </tr>\n",
              "    <tr>\n",
              "      <th>266540</th>\n",
              "      <td>3.5</td>\n",
              "      <td>Action,Adventure,Thriller</td>\n",
              "    </tr>\n",
              "    <tr>\n",
              "      <th>266541</th>\n",
              "      <td>5.8</td>\n",
              "      <td>Thriller</td>\n",
              "    </tr>\n",
              "    <tr>\n",
              "      <th>266542</th>\n",
              "      <td>6.3</td>\n",
              "      <td>Adventure,Drama,History</td>\n",
              "    </tr>\n",
              "    <tr>\n",
              "      <th>266543</th>\n",
              "      <td>3.8</td>\n",
              "      <td>Adventure,History,War</td>\n",
              "    </tr>\n",
              "    <tr>\n",
              "      <th>266544</th>\n",
              "      <td>8.3</td>\n",
              "      <td>Drama</td>\n",
              "    </tr>\n",
              "  </tbody>\n",
              "</table>\n",
              "<p>266545 rows × 2 columns</p>\n",
              "</div>"
            ],
            "text/plain": [
              "        rating                      genres\n",
              "0          4.5                          \\N\n",
              "1          6.1  Action,Adventure,Biography\n",
              "2          5.2                       Drama\n",
              "3          4.5                       Drama\n",
              "4          3.8                       Drama\n",
              "...        ...                         ...\n",
              "266540     3.5   Action,Adventure,Thriller\n",
              "266541     5.8                    Thriller\n",
              "266542     6.3     Adventure,Drama,History\n",
              "266543     3.8       Adventure,History,War\n",
              "266544     8.3                       Drama\n",
              "\n",
              "[266545 rows x 2 columns]"
            ]
          },
          "metadata": {
            "tags": []
          }
        }
      ]
    },
    {
      "cell_type": "code",
      "metadata": {
        "id": "W0JWWH6Y19SU"
      },
      "source": [
        "# Vamos criar uma função para retornar os genêros\n",
        "def retorna_generos(df):\n",
        "    df['genres'] = df['genres'].str.lower().values\n",
        "    temp = df['genres'].dropna()\n",
        "    vetor = CountVectorizer(token_pattern = '(?u)\\\\b[\\\\w-]+\\\\b', analyzer = 'word').fit(temp)\n",
        "    generos_unicos =  vetor.get_feature_names()\n",
        "    generos_unicos = [genre for genre in generos_unicos if len(genre) > 1]\n",
        "    return generos_unicos"
      ],
      "execution_count": 44,
      "outputs": []
    },
    {
      "cell_type": "code",
      "metadata": {
        "id": "Faj3PBUaF6O4"
      },
      "source": [
        "# Aplica a função\n",
        "generos_unicos = retorna_generos(resultado3)"
      ],
      "execution_count": 45,
      "outputs": []
    },
    {
      "cell_type": "code",
      "metadata": {
        "colab": {
          "base_uri": "https://localhost:8080/"
        },
        "id": "qD4G2t6uF6O4",
        "outputId": "af96b3d1-271d-44ec-ee9e-3124d909c8b7"
      },
      "source": [
        "# Visualiza\n",
        "generos_unicos"
      ],
      "execution_count": 46,
      "outputs": [
        {
          "output_type": "execute_result",
          "data": {
            "text/plain": [
              "['action',\n",
              " 'adult',\n",
              " 'adventure',\n",
              " 'animation',\n",
              " 'biography',\n",
              " 'comedy',\n",
              " 'crime',\n",
              " 'documentary',\n",
              " 'drama',\n",
              " 'family',\n",
              " 'fantasy',\n",
              " 'film-noir',\n",
              " 'game-show',\n",
              " 'history',\n",
              " 'horror',\n",
              " 'music',\n",
              " 'musical',\n",
              " 'mystery',\n",
              " 'news',\n",
              " 'reality-tv',\n",
              " 'romance',\n",
              " 'sci-fi',\n",
              " 'short',\n",
              " 'sport',\n",
              " 'talk-show',\n",
              " 'thriller',\n",
              " 'war',\n",
              " 'western']"
            ]
          },
          "metadata": {
            "tags": []
          },
          "execution_count": 46
        }
      ]
    },
    {
      "cell_type": "code",
      "metadata": {
        "id": "6ETSlKWXF6O4"
      },
      "source": [
        "# Cria listas vazias\n",
        "genero_counts = []\n",
        "genero_ratings = []"
      ],
      "execution_count": 47,
      "outputs": []
    },
    {
      "cell_type": "code",
      "metadata": {
        "id": "Iggq_inu9QJz"
      },
      "source": [
        "# Loop\n",
        "for item in generos_unicos:\n",
        "    \n",
        "    # Retorna a contagem de filmes por gênero\n",
        "    consulta = 'SELECT COUNT(rating) FROM ratings JOIN titles ON ratings.title_id=titles.title_id WHERE genres LIKE '+ '\\''+'%'+item+'%'+'\\' AND type=\\'movie\\''\n",
        "    resultado = pd.read_sql_query(consulta, conn)\n",
        "    genero_counts.append(resultado.values[0][0])\n",
        "  \n",
        "     # Retorna a avaliação de filmes por gênero\n",
        "    consulta = 'SELECT rating FROM ratings JOIN titles ON ratings.title_id=titles.title_id WHERE genres LIKE '+ '\\''+'%'+item+'%'+'\\' AND type=\\'movie\\''\n",
        "    resultado = pd.read_sql_query(consulta, conn)\n",
        "    genero_ratings.append(np.median(resultado['rating']))"
      ],
      "execution_count": 48,
      "outputs": []
    },
    {
      "cell_type": "code",
      "metadata": {
        "id": "E4lGTLpfQStn"
      },
      "source": [
        "# Prepara o dataframe final\n",
        "df_genero_ratings = pd.DataFrame()\n",
        "df_genero_ratings['genres'] = generos_unicos\n",
        "df_genero_ratings['count'] = genero_counts\n",
        "df_genero_ratings['rating'] = genero_ratings"
      ],
      "execution_count": 49,
      "outputs": []
    },
    {
      "cell_type": "code",
      "metadata": {
        "colab": {
          "base_uri": "https://localhost:8080/",
          "height": 669
        },
        "id": "gGWPAA0QF6O5",
        "outputId": "d75ef225-1bc9-4a57-dd32-f1fa7276d989"
      },
      "source": [
        "# Visualiza\n",
        "df_genero_ratings.head(20)"
      ],
      "execution_count": 50,
      "outputs": [
        {
          "output_type": "execute_result",
          "data": {
            "text/html": [
              "<div>\n",
              "<style scoped>\n",
              "    .dataframe tbody tr th:only-of-type {\n",
              "        vertical-align: middle;\n",
              "    }\n",
              "\n",
              "    .dataframe tbody tr th {\n",
              "        vertical-align: top;\n",
              "    }\n",
              "\n",
              "    .dataframe thead th {\n",
              "        text-align: right;\n",
              "    }\n",
              "</style>\n",
              "<table border=\"1\" class=\"dataframe\">\n",
              "  <thead>\n",
              "    <tr style=\"text-align: right;\">\n",
              "      <th></th>\n",
              "      <th>genres</th>\n",
              "      <th>count</th>\n",
              "      <th>rating</th>\n",
              "    </tr>\n",
              "  </thead>\n",
              "  <tbody>\n",
              "    <tr>\n",
              "      <th>0</th>\n",
              "      <td>action</td>\n",
              "      <td>28637</td>\n",
              "      <td>5.8</td>\n",
              "    </tr>\n",
              "    <tr>\n",
              "      <th>1</th>\n",
              "      <td>adult</td>\n",
              "      <td>4075</td>\n",
              "      <td>5.8</td>\n",
              "    </tr>\n",
              "    <tr>\n",
              "      <th>2</th>\n",
              "      <td>adventure</td>\n",
              "      <td>17584</td>\n",
              "      <td>6.0</td>\n",
              "    </tr>\n",
              "    <tr>\n",
              "      <th>3</th>\n",
              "      <td>animation</td>\n",
              "      <td>4640</td>\n",
              "      <td>6.5</td>\n",
              "    </tr>\n",
              "    <tr>\n",
              "      <th>4</th>\n",
              "      <td>biography</td>\n",
              "      <td>8009</td>\n",
              "      <td>7.0</td>\n",
              "    </tr>\n",
              "    <tr>\n",
              "      <th>5</th>\n",
              "      <td>comedy</td>\n",
              "      <td>66526</td>\n",
              "      <td>6.0</td>\n",
              "    </tr>\n",
              "    <tr>\n",
              "      <th>6</th>\n",
              "      <td>crime</td>\n",
              "      <td>22996</td>\n",
              "      <td>6.1</td>\n",
              "    </tr>\n",
              "    <tr>\n",
              "      <th>7</th>\n",
              "      <td>documentary</td>\n",
              "      <td>38978</td>\n",
              "      <td>7.3</td>\n",
              "    </tr>\n",
              "    <tr>\n",
              "      <th>8</th>\n",
              "      <td>drama</td>\n",
              "      <td>118363</td>\n",
              "      <td>6.3</td>\n",
              "    </tr>\n",
              "    <tr>\n",
              "      <th>9</th>\n",
              "      <td>family</td>\n",
              "      <td>10138</td>\n",
              "      <td>6.3</td>\n",
              "    </tr>\n",
              "    <tr>\n",
              "      <th>10</th>\n",
              "      <td>fantasy</td>\n",
              "      <td>7907</td>\n",
              "      <td>6.1</td>\n",
              "    </tr>\n",
              "    <tr>\n",
              "      <th>11</th>\n",
              "      <td>film-noir</td>\n",
              "      <td>761</td>\n",
              "      <td>6.6</td>\n",
              "    </tr>\n",
              "    <tr>\n",
              "      <th>12</th>\n",
              "      <td>game-show</td>\n",
              "      <td>3</td>\n",
              "      <td>7.2</td>\n",
              "    </tr>\n",
              "    <tr>\n",
              "      <th>13</th>\n",
              "      <td>history</td>\n",
              "      <td>7331</td>\n",
              "      <td>6.9</td>\n",
              "    </tr>\n",
              "    <tr>\n",
              "      <th>14</th>\n",
              "      <td>horror</td>\n",
              "      <td>18750</td>\n",
              "      <td>5.0</td>\n",
              "    </tr>\n",
              "    <tr>\n",
              "      <th>15</th>\n",
              "      <td>music</td>\n",
              "      <td>12281</td>\n",
              "      <td>6.5</td>\n",
              "    </tr>\n",
              "    <tr>\n",
              "      <th>16</th>\n",
              "      <td>musical</td>\n",
              "      <td>5919</td>\n",
              "      <td>6.3</td>\n",
              "    </tr>\n",
              "    <tr>\n",
              "      <th>17</th>\n",
              "      <td>mystery</td>\n",
              "      <td>9925</td>\n",
              "      <td>6.0</td>\n",
              "    </tr>\n",
              "    <tr>\n",
              "      <th>18</th>\n",
              "      <td>news</td>\n",
              "      <td>660</td>\n",
              "      <td>7.3</td>\n",
              "    </tr>\n",
              "    <tr>\n",
              "      <th>19</th>\n",
              "      <td>reality-tv</td>\n",
              "      <td>37</td>\n",
              "      <td>6.6</td>\n",
              "    </tr>\n",
              "  </tbody>\n",
              "</table>\n",
              "</div>"
            ],
            "text/plain": [
              "         genres   count  rating\n",
              "0        action   28637     5.8\n",
              "1         adult    4075     5.8\n",
              "2     adventure   17584     6.0\n",
              "3     animation    4640     6.5\n",
              "4     biography    8009     7.0\n",
              "5        comedy   66526     6.0\n",
              "6         crime   22996     6.1\n",
              "7   documentary   38978     7.3\n",
              "8         drama  118363     6.3\n",
              "9        family   10138     6.3\n",
              "10      fantasy    7907     6.1\n",
              "11    film-noir     761     6.6\n",
              "12    game-show       3     7.2\n",
              "13      history    7331     6.9\n",
              "14       horror   18750     5.0\n",
              "15        music   12281     6.5\n",
              "16      musical    5919     6.3\n",
              "17      mystery    9925     6.0\n",
              "18         news     660     7.3\n",
              "19   reality-tv      37     6.6"
            ]
          },
          "metadata": {
            "tags": []
          },
          "execution_count": 50
        }
      ]
    },
    {
      "cell_type": "code",
      "metadata": {
        "id": "h0voA1yQQ_80"
      },
      "source": [
        "# Drop do índice 18 (news)\n",
        "# Não queremos essa informação como gênero\n",
        "df_genero_ratings = df_genero_ratings.drop(index = 18)"
      ],
      "execution_count": 51,
      "outputs": []
    },
    {
      "cell_type": "code",
      "metadata": {
        "id": "C2d5HNJITbaG"
      },
      "source": [
        "# Ordena o resultado\n",
        "df_genero_ratings = df_genero_ratings.sort_values(by = 'rating', ascending = False)"
      ],
      "execution_count": 52,
      "outputs": []
    },
    {
      "cell_type": "code",
      "metadata": {
        "colab": {
          "base_uri": "https://localhost:8080/",
          "height": 657
        },
        "id": "MSrgVMHuUAAV",
        "outputId": "12e20c98-5698-45f7-d233-cdc9780a8be9"
      },
      "source": [
        "# Plot\n",
        "\n",
        "# Figura\n",
        "plt.figure(figsize = (16,10))\n",
        "\n",
        "# Barplot\n",
        "sns.barplot(y = df_genero_ratings.genres, x = df_genero_ratings.rating, orient = \"h\")\n",
        "\n",
        "# Textos do gráfico\n",
        "for i in range(len(df_genero_ratings.index)):\n",
        "    \n",
        "    plt.text(4.0, \n",
        "             i + 0.25, \n",
        "             str(df_genero_ratings['count'][df_genero_ratings.index[i]]) + \" filmes\")\n",
        "    \n",
        "    plt.text(df_genero_ratings.rating[df_genero_ratings.index[i]],\n",
        "             i + 0.25,\n",
        "             round(df_genero_ratings[\"rating\"][df_genero_ratings.index[i]],2))\n",
        "\n",
        "plt.ylabel('Gênero')             \n",
        "plt.xlabel('Mediana da Avaliação')\n",
        "plt.title('\\nMediana de Avaliação Por Gênero\\n')\n",
        "plt.show()"
      ],
      "execution_count": 53,
      "outputs": [
        {
          "output_type": "display_data",
          "data": {
            "image/png": "[encoded data removed]",
            "text/plain": [
              "<Figure size 1152x720 with 1 Axes>"
            ]
          },
          "metadata": {
            "tags": []
          }
        }
      ]
    },
    {
      "cell_type": "markdown",
      "metadata": {
        "id": "V4RFdmlvsbgQ"
      },
      "source": [
        "## 4- Qual a Mediana de Avaliação dos Filmes Em Relação ao Ano de Estréia?\n",
        "\n",
        "Mediana de avaliação dos filmes."
      ]
    },
    {
      "cell_type": "code",
      "metadata": {
        "id": "D7ZoVPJip0eA"
      },
      "source": [
        "# Consulta SQL\n",
        "consulta4 = '''\n",
        "            SELECT rating AS Rating, premiered FROM \n",
        "            ratings JOIN titles ON ratings.title_id = titles.title_id \n",
        "            WHERE premiered <= 2022 AND type = 'movie'\n",
        "            ORDER BY premiered\n",
        "            ''' "
      ],
      "execution_count": 54,
      "outputs": []
    },
    {
      "cell_type": "code",
      "metadata": {
        "id": "eoFJEW5DF6O7"
      },
      "source": [
        "# Resultado\n",
        "resultado4 = pd.read_sql_query(consulta4, conn)"
      ],
      "execution_count": 55,
      "outputs": []
    },
    {
      "cell_type": "code",
      "metadata": {
        "colab": {
          "base_uri": "https://localhost:8080/",
          "height": 419
        },
        "id": "L9WoRPbwF6O7",
        "outputId": "ed16de68-b2da-42cc-811d-af69e56a4fdf"
      },
      "source": [
        "display(resultado4)"
      ],
      "execution_count": 56,
      "outputs": [
        {
          "output_type": "display_data",
          "data": {
            "text/html": [
              "<div>\n",
              "<style scoped>\n",
              "    .dataframe tbody tr th:only-of-type {\n",
              "        vertical-align: middle;\n",
              "    }\n",
              "\n",
              "    .dataframe tbody tr th {\n",
              "        vertical-align: top;\n",
              "    }\n",
              "\n",
              "    .dataframe thead th {\n",
              "        text-align: right;\n",
              "    }\n",
              "</style>\n",
              "<table border=\"1\" class=\"dataframe\">\n",
              "  <thead>\n",
              "    <tr style=\"text-align: right;\">\n",
              "      <th></th>\n",
              "      <th>Rating</th>\n",
              "      <th>premiered</th>\n",
              "    </tr>\n",
              "  </thead>\n",
              "  <tbody>\n",
              "    <tr>\n",
              "      <th>0</th>\n",
              "      <td>6.4</td>\n",
              "      <td>1896</td>\n",
              "    </tr>\n",
              "    <tr>\n",
              "      <th>1</th>\n",
              "      <td>4.4</td>\n",
              "      <td>1897</td>\n",
              "    </tr>\n",
              "    <tr>\n",
              "      <th>2</th>\n",
              "      <td>3.9</td>\n",
              "      <td>1899</td>\n",
              "    </tr>\n",
              "    <tr>\n",
              "      <th>3</th>\n",
              "      <td>3.7</td>\n",
              "      <td>1899</td>\n",
              "    </tr>\n",
              "    <tr>\n",
              "      <th>4</th>\n",
              "      <td>6.0</td>\n",
              "      <td>1900</td>\n",
              "    </tr>\n",
              "    <tr>\n",
              "      <th>...</th>\n",
              "      <td>...</td>\n",
              "      <td>...</td>\n",
              "    </tr>\n",
              "    <tr>\n",
              "      <th>266540</th>\n",
              "      <td>4.8</td>\n",
              "      <td>2021</td>\n",
              "    </tr>\n",
              "    <tr>\n",
              "      <th>266541</th>\n",
              "      <td>9.6</td>\n",
              "      <td>2021</td>\n",
              "    </tr>\n",
              "    <tr>\n",
              "      <th>266542</th>\n",
              "      <td>8.3</td>\n",
              "      <td>2021</td>\n",
              "    </tr>\n",
              "    <tr>\n",
              "      <th>266543</th>\n",
              "      <td>5.9</td>\n",
              "      <td>2021</td>\n",
              "    </tr>\n",
              "    <tr>\n",
              "      <th>266544</th>\n",
              "      <td>8.0</td>\n",
              "      <td>2021</td>\n",
              "    </tr>\n",
              "  </tbody>\n",
              "</table>\n",
              "<p>266545 rows × 2 columns</p>\n",
              "</div>"
            ],
            "text/plain": [
              "        Rating  premiered\n",
              "0          6.4       1896\n",
              "1          4.4       1897\n",
              "2          3.9       1899\n",
              "3          3.7       1899\n",
              "4          6.0       1900\n",
              "...        ...        ...\n",
              "266540     4.8       2021\n",
              "266541     9.6       2021\n",
              "266542     8.3       2021\n",
              "266543     5.9       2021\n",
              "266544     8.0       2021\n",
              "\n",
              "[266545 rows x 2 columns]"
            ]
          },
          "metadata": {
            "tags": []
          }
        }
      ]
    },
    {
      "cell_type": "code",
      "metadata": {
        "id": "MC6R8jw-XWZj"
      },
      "source": [
        "# Calculamos a mediana ao longo do tempo (anos)\n",
        "ratings = []\n",
        "for year in set(resultado4['premiered']):\n",
        "    ratings.append(np.median(resultado4[resultado4['premiered'] == year]['Rating']))"
      ],
      "execution_count": 57,
      "outputs": []
    },
    {
      "cell_type": "code",
      "metadata": {
        "colab": {
          "base_uri": "https://localhost:8080/"
        },
        "id": "4UJ7KuTdF6O8",
        "outputId": "6d7ea0d5-eee2-4a3e-a5c2-6be2e4b58dfa"
      },
      "source": [
        "type(ratings)"
      ],
      "execution_count": 58,
      "outputs": [
        {
          "output_type": "execute_result",
          "data": {
            "text/plain": [
              "list"
            ]
          },
          "metadata": {
            "tags": []
          },
          "execution_count": 58
        }
      ]
    },
    {
      "cell_type": "code",
      "metadata": {
        "colab": {
          "base_uri": "https://localhost:8080/"
        },
        "id": "YfV38fyLF6O8",
        "outputId": "df5fea80-65a9-40ab-fbb0-e961f3019cbd"
      },
      "source": [
        "ratings[1:10]"
      ],
      "execution_count": 59,
      "outputs": [
        {
          "output_type": "execute_result",
          "data": {
            "text/plain": [
              "[4.4, 3.8, 6.15, 4.5, 3.5, 4.6, 5.4, 4.3, 3.6]"
            ]
          },
          "metadata": {
            "tags": []
          },
          "execution_count": 59
        }
      ]
    },
    {
      "cell_type": "code",
      "metadata": {
        "id": "VV_YECfDYLkU"
      },
      "source": [
        "# Lista de anos\n",
        "anos = list(set(resultado4['premiered']))"
      ],
      "execution_count": 60,
      "outputs": []
    },
    {
      "cell_type": "code",
      "metadata": {
        "colab": {
          "base_uri": "https://localhost:8080/"
        },
        "id": "yMp9JTzcF6O9",
        "outputId": "6e6468c1-b00b-4b92-911f-78f84f52eee7"
      },
      "source": [
        "anos[1:10]"
      ],
      "execution_count": 61,
      "outputs": [
        {
          "output_type": "execute_result",
          "data": {
            "text/plain": [
              "[1897, 1899, 1900, 1901, 1902, 1903, 1904, 1905, 1906]"
            ]
          },
          "metadata": {
            "tags": []
          },
          "execution_count": 61
        }
      ]
    },
    {
      "cell_type": "code",
      "metadata": {
        "colab": {
          "base_uri": "https://localhost:8080/",
          "height": 563
        },
        "id": "o-DcxevEspQQ",
        "outputId": "9183fb28-2fdb-4928-eaf4-3fdf2b07ed8c"
      },
      "source": [
        "# Plot\n",
        "plt.figure(figsize = (16,8))\n",
        "plt.plot(anos, ratings)\n",
        "plt.xlabel('\\nAno')\n",
        "plt.ylabel('Mediana de Avaliação')\n",
        "plt.title('\\nMediana de Avaliação dos Filmes Em Relação ao Ano de Estréia\\n')\n",
        "plt.show()"
      ],
      "execution_count": 62,
      "outputs": [
        {
          "output_type": "display_data",
          "data": {
            "image/png": "[encoded data removed]",
            "text/plain": [
              "<Figure size 1152x576 with 1 Axes>"
            ]
          },
          "metadata": {
            "tags": []
          }
        }
      ]
    },
    {
      "cell_type": "markdown",
      "metadata": {
        "id": "2F2Dmji2xR9v"
      },
      "source": [
        "## 5- Qual o Número de Filmes Avaliados Por Gênero Em Relação ao Ano de Estréia?\n",
        "\n",
        "Número de filmes por gênero. Vamos listar os Top 5."
      ]
    },
    {
      "cell_type": "code",
      "metadata": {
        "id": "eHdCbIyDm10W"
      },
      "source": [
        "# Consulta SQL\n",
        "consulta5 = '''SELECT genres FROM titles ''' "
      ],
      "execution_count": 63,
      "outputs": []
    },
    {
      "cell_type": "code",
      "metadata": {
        "id": "CvrYfGBmF6O9"
      },
      "source": [
        "# Resultado\n",
        "resultado5 = pd.read_sql_query(consulta5, conn)"
      ],
      "execution_count": 64,
      "outputs": []
    },
    {
      "cell_type": "code",
      "metadata": {
        "colab": {
          "base_uri": "https://localhost:8080/",
          "height": 419
        },
        "id": "L0JxWWPlF6O-",
        "outputId": "9bdcfade-45bf-480c-84b2-9074949cc571"
      },
      "source": [
        "display(resultado5)"
      ],
      "execution_count": 65,
      "outputs": [
        {
          "output_type": "display_data",
          "data": {
            "text/html": [
              "<div>\n",
              "<style scoped>\n",
              "    .dataframe tbody tr th:only-of-type {\n",
              "        vertical-align: middle;\n",
              "    }\n",
              "\n",
              "    .dataframe tbody tr th {\n",
              "        vertical-align: top;\n",
              "    }\n",
              "\n",
              "    .dataframe thead th {\n",
              "        text-align: right;\n",
              "    }\n",
              "</style>\n",
              "<table border=\"1\" class=\"dataframe\">\n",
              "  <thead>\n",
              "    <tr style=\"text-align: right;\">\n",
              "      <th></th>\n",
              "      <th>genres</th>\n",
              "    </tr>\n",
              "  </thead>\n",
              "  <tbody>\n",
              "    <tr>\n",
              "      <th>0</th>\n",
              "      <td>Documentary,Short</td>\n",
              "    </tr>\n",
              "    <tr>\n",
              "      <th>1</th>\n",
              "      <td>Animation,Short</td>\n",
              "    </tr>\n",
              "    <tr>\n",
              "      <th>2</th>\n",
              "      <td>Animation,Comedy,Romance</td>\n",
              "    </tr>\n",
              "    <tr>\n",
              "      <th>3</th>\n",
              "      <td>Animation,Short</td>\n",
              "    </tr>\n",
              "    <tr>\n",
              "      <th>4</th>\n",
              "      <td>Comedy,Short</td>\n",
              "    </tr>\n",
              "    <tr>\n",
              "      <th>...</th>\n",
              "      <td>...</td>\n",
              "    </tr>\n",
              "    <tr>\n",
              "      <th>8141450</th>\n",
              "      <td>Action,Drama,Family</td>\n",
              "    </tr>\n",
              "    <tr>\n",
              "      <th>8141451</th>\n",
              "      <td>Action,Drama,Family</td>\n",
              "    </tr>\n",
              "    <tr>\n",
              "      <th>8141452</th>\n",
              "      <td>Action,Drama,Family</td>\n",
              "    </tr>\n",
              "    <tr>\n",
              "      <th>8141453</th>\n",
              "      <td>Short</td>\n",
              "    </tr>\n",
              "    <tr>\n",
              "      <th>8141454</th>\n",
              "      <td>Animation,Comedy,Family</td>\n",
              "    </tr>\n",
              "  </tbody>\n",
              "</table>\n",
              "<p>8141455 rows × 1 columns</p>\n",
              "</div>"
            ],
            "text/plain": [
              "                           genres\n",
              "0               Documentary,Short\n",
              "1                 Animation,Short\n",
              "2        Animation,Comedy,Romance\n",
              "3                 Animation,Short\n",
              "4                    Comedy,Short\n",
              "...                           ...\n",
              "8141450       Action,Drama,Family\n",
              "8141451       Action,Drama,Family\n",
              "8141452       Action,Drama,Family\n",
              "8141453                     Short\n",
              "8141454   Animation,Comedy,Family\n",
              "\n",
              "[8141455 rows x 1 columns]"
            ]
          },
          "metadata": {
            "tags": []
          }
        }
      ]
    },
    {
      "cell_type": "code",
      "metadata": {
        "id": "3l9aiHCLvI5S"
      },
      "source": [
        "# Retorna gêneros únicos\n",
        "generos_unicos = retorna_generos(resultado5)"
      ],
      "execution_count": 66,
      "outputs": []
    },
    {
      "cell_type": "code",
      "metadata": {
        "colab": {
          "base_uri": "https://localhost:8080/"
        },
        "id": "_yZcWY3sF6O-",
        "outputId": "fa5d09b6-865c-443c-ed78-c23bc839abf4"
      },
      "source": [
        "# Visualiza o resultado\n",
        "generos_unicos"
      ],
      "execution_count": 67,
      "outputs": [
        {
          "output_type": "execute_result",
          "data": {
            "text/plain": [
              "['action',\n",
              " 'adult',\n",
              " 'adventure',\n",
              " 'animation',\n",
              " 'biography',\n",
              " 'comedy',\n",
              " 'crime',\n",
              " 'documentary',\n",
              " 'drama',\n",
              " 'family',\n",
              " 'fantasy',\n",
              " 'film-noir',\n",
              " 'game-show',\n",
              " 'history',\n",
              " 'horror',\n",
              " 'music',\n",
              " 'musical',\n",
              " 'mystery',\n",
              " 'news',\n",
              " 'reality-tv',\n",
              " 'romance',\n",
              " 'sci-fi',\n",
              " 'short',\n",
              " 'sport',\n",
              " 'talk-show',\n",
              " 'thriller',\n",
              " 'war',\n",
              " 'western']"
            ]
          },
          "metadata": {
            "tags": []
          },
          "execution_count": 67
        }
      ]
    },
    {
      "cell_type": "code",
      "metadata": {
        "id": "IvXAi1HGf7X8"
      },
      "source": [
        "# Agora fazemos a contagem\n",
        "genero_count = []\n",
        "for item in generos_unicos:\n",
        "    consulta = 'SELECT COUNT(*) COUNT FROM  titles  WHERE genres LIKE '+ '\\''+'%'+item+'%'+'\\' AND type=\\'movie\\' AND premiered <= 2022'\n",
        "    resultado = pd.read_sql_query(consulta, conn)\n",
        "    genero_count.append(resultado['COUNT'].values[0])"
      ],
      "execution_count": 68,
      "outputs": []
    },
    {
      "cell_type": "code",
      "metadata": {
        "id": "6ASveNmFf9aI"
      },
      "source": [
        "# Prepara o dataframe\n",
        "df_genero_count = pd.DataFrame()\n",
        "df_genero_count['genre'] = generos_unicos\n",
        "df_genero_count['Count'] = genero_count"
      ],
      "execution_count": 69,
      "outputs": []
    },
    {
      "cell_type": "code",
      "metadata": {
        "id": "938c_uY-kDiW"
      },
      "source": [
        "# Calcula os top 5\n",
        "df_genero_count = df_genero_count[df_genero_count['genre'] != 'n']\n",
        "df_genero_count = df_genero_count.sort_values(by = 'Count', ascending = False)\n",
        "top_generos = df_genero_count.head()['genre'].values"
      ],
      "execution_count": 70,
      "outputs": []
    },
    {
      "cell_type": "code",
      "metadata": {
        "colab": {
          "base_uri": "https://localhost:8080/",
          "height": 563
        },
        "id": "8aP0rOP0mBh_",
        "outputId": "03ec4122-1bbf-486f-fb8c-cabb4e51abb2"
      },
      "source": [
        "# Plot\n",
        "\n",
        "# Figura\n",
        "plt.figure(figsize = (16,8))\n",
        "\n",
        "# Loop e Plot\n",
        "for item in top_generos:\n",
        "    consulta = 'SELECT COUNT(*) Number_of_movies, premiered Year FROM  titles  WHERE genres LIKE '+ '\\''+'%'+item+'%'+'\\' AND type=\\'movie\\' AND Year <=2022 GROUP BY Year'\n",
        "    resultado = pd.read_sql_query(consulta, conn)\n",
        "    plt.plot(resultado['Year'], resultado['Number_of_movies'])\n",
        "\n",
        "plt.xlabel('\\nAno')\n",
        "plt.ylabel('Número de Filmes Avaliados')\n",
        "plt.title('\\nNúmero de Filmes Avaliados Por Gênero Em Relação ao Ano de Estréia\\n')\n",
        "plt.legend(labels = top_generos)\n",
        "plt.show()"
      ],
      "execution_count": 71,
      "outputs": [
        {
          "output_type": "display_data",
          "data": {
            "image/png": "[encoded data removed]",
            "text/plain": [
              "<Figure size 1152x576 with 1 Axes>"
            ]
          },
          "metadata": {
            "tags": []
          }
        }
      ]
    },
    {
      "cell_type": "markdown",
      "metadata": {
        "id": "9U6CKRVVzF5O"
      },
      "source": [
        "## 6- Qual o Filme Com Maior Tempo de Duração? Calcule os Percentis.\n",
        "\n",
        "Percentis e filme mais longo da história."
      ]
    },
    {
      "cell_type": "code",
      "metadata": {
        "id": "0emEVWQcZAkB"
      },
      "source": [
        "# Consulta SQL\n",
        "consulta6 = '''\n",
        "            SELECT runtime_minutes Runtime \n",
        "            FROM titles \n",
        "            WHERE type = 'movie' AND Runtime != 'NaN'\n",
        "            ''' "
      ],
      "execution_count": 72,
      "outputs": []
    },
    {
      "cell_type": "code",
      "metadata": {
        "id": "ZkE0cwliF6PA"
      },
      "source": [
        "# Resultado\n",
        "resultado6 = pd.read_sql_query(consulta6, conn)"
      ],
      "execution_count": 73,
      "outputs": []
    },
    {
      "cell_type": "code",
      "metadata": {
        "colab": {
          "base_uri": "https://localhost:8080/",
          "height": 419
        },
        "id": "5P_m7NlOF6PA",
        "outputId": "4b164a41-d573-403f-a400-bf1ea1659b33"
      },
      "source": [
        "display(resultado6)"
      ],
      "execution_count": 74,
      "outputs": [
        {
          "output_type": "display_data",
          "data": {
            "text/html": [
              "<div>\n",
              "<style scoped>\n",
              "    .dataframe tbody tr th:only-of-type {\n",
              "        vertical-align: middle;\n",
              "    }\n",
              "\n",
              "    .dataframe tbody tr th {\n",
              "        vertical-align: top;\n",
              "    }\n",
              "\n",
              "    .dataframe thead th {\n",
              "        text-align: right;\n",
              "    }\n",
              "</style>\n",
              "<table border=\"1\" class=\"dataframe\">\n",
              "  <thead>\n",
              "    <tr style=\"text-align: right;\">\n",
              "      <th></th>\n",
              "      <th>Runtime</th>\n",
              "    </tr>\n",
              "  </thead>\n",
              "  <tbody>\n",
              "    <tr>\n",
              "      <th>0</th>\n",
              "      <td>100</td>\n",
              "    </tr>\n",
              "    <tr>\n",
              "      <th>1</th>\n",
              "      <td>70</td>\n",
              "    </tr>\n",
              "    <tr>\n",
              "      <th>2</th>\n",
              "      <td>90</td>\n",
              "    </tr>\n",
              "    <tr>\n",
              "      <th>3</th>\n",
              "      <td>120</td>\n",
              "    </tr>\n",
              "    <tr>\n",
              "      <th>4</th>\n",
              "      <td>58</td>\n",
              "    </tr>\n",
              "    <tr>\n",
              "      <th>...</th>\n",
              "      <td>...</td>\n",
              "    </tr>\n",
              "    <tr>\n",
              "      <th>367877</th>\n",
              "      <td>123</td>\n",
              "    </tr>\n",
              "    <tr>\n",
              "      <th>367878</th>\n",
              "      <td>57</td>\n",
              "    </tr>\n",
              "    <tr>\n",
              "      <th>367879</th>\n",
              "      <td>100</td>\n",
              "    </tr>\n",
              "    <tr>\n",
              "      <th>367880</th>\n",
              "      <td>116</td>\n",
              "    </tr>\n",
              "    <tr>\n",
              "      <th>367881</th>\n",
              "      <td>49</td>\n",
              "    </tr>\n",
              "  </tbody>\n",
              "</table>\n",
              "<p>367882 rows × 1 columns</p>\n",
              "</div>"
            ],
            "text/plain": [
              "        Runtime\n",
              "0           100\n",
              "1            70\n",
              "2            90\n",
              "3           120\n",
              "4            58\n",
              "...         ...\n",
              "367877      123\n",
              "367878       57\n",
              "367879      100\n",
              "367880      116\n",
              "367881       49\n",
              "\n",
              "[367882 rows x 1 columns]"
            ]
          },
          "metadata": {
            "tags": []
          }
        }
      ]
    },
    {
      "cell_type": "code",
      "metadata": {
        "colab": {
          "base_uri": "https://localhost:8080/"
        },
        "id": "TTu1QGec4wgb",
        "outputId": "3c8cd663-cd9d-424c-b247-04ac57d9ab66"
      },
      "source": [
        "# Loop para cálculo dos percentis\n",
        "for i in range(101): \n",
        "    val = i\n",
        "    perc = round(np.percentile(resultado6['Runtime'].values, val), 2)\n",
        "    print('{} percentil da duração (runtime) é: {}'.format(val, perc))"
      ],
      "execution_count": 75,
      "outputs": [
        {
          "output_type": "stream",
          "text": [
            "0 percentil da duração (runtime) é: 1.0\n",
            "1 percentil da duração (runtime) é: 45.0\n",
            "2 percentil da duração (runtime) é: 48.0\n",
            "3 percentil da duração (runtime) é: 50.0\n",
            "4 percentil da duração (runtime) é: 50.0\n",
            "5 percentil da duração (runtime) é: 52.0\n",
            "6 percentil da duração (runtime) é: 52.0\n",
            "7 percentil da duração (runtime) é: 54.0\n",
            "8 percentil da duração (runtime) é: 55.0\n",
            "9 percentil da duração (runtime) é: 56.0\n",
            "10 percentil da duração (runtime) é: 58.0\n",
            "11 percentil da duração (runtime) é: 59.0\n",
            "12 percentil da duração (runtime) é: 60.0\n",
            "13 percentil da duração (runtime) é: 60.0\n",
            "14 percentil da duração (runtime) é: 60.0\n",
            "15 percentil da duração (runtime) é: 62.0\n",
            "16 percentil da duração (runtime) é: 63.0\n",
            "17 percentil da duração (runtime) é: 65.0\n",
            "18 percentil da duração (runtime) é: 66.0\n",
            "19 percentil da duração (runtime) é: 68.0\n",
            "20 percentil da duração (runtime) é: 70.0\n",
            "21 percentil da duração (runtime) é: 70.0\n",
            "22 percentil da duração (runtime) é: 71.0\n",
            "23 percentil da duração (runtime) é: 72.0\n",
            "24 percentil da duração (runtime) é: 73.0\n",
            "25 percentil da duração (runtime) é: 74.0\n",
            "26 percentil da duração (runtime) é: 75.0\n",
            "27 percentil da duração (runtime) é: 75.0\n",
            "28 percentil da duração (runtime) é: 76.0\n",
            "29 percentil da duração (runtime) é: 77.0\n",
            "30 percentil da duração (runtime) é: 78.0\n",
            "31 percentil da duração (runtime) é: 79.0\n",
            "32 percentil da duração (runtime) é: 80.0\n",
            "33 percentil da duração (runtime) é: 80.0\n",
            "34 percentil da duração (runtime) é: 80.0\n",
            "35 percentil da duração (runtime) é: 81.0\n",
            "36 percentil da duração (runtime) é: 82.0\n",
            "37 percentil da duração (runtime) é: 82.0\n",
            "38 percentil da duração (runtime) é: 83.0\n",
            "39 percentil da duração (runtime) é: 84.0\n",
            "40 percentil da duração (runtime) é: 84.0\n",
            "41 percentil da duração (runtime) é: 85.0\n",
            "42 percentil da duração (runtime) é: 85.0\n",
            "43 percentil da duração (runtime) é: 85.0\n",
            "44 percentil da duração (runtime) é: 86.0\n",
            "45 percentil da duração (runtime) é: 86.0\n",
            "46 percentil da duração (runtime) é: 87.0\n",
            "47 percentil da duração (runtime) é: 87.0\n",
            "48 percentil da duração (runtime) é: 88.0\n",
            "49 percentil da duração (runtime) é: 88.0\n",
            "50 percentil da duração (runtime) é: 89.0\n",
            "51 percentil da duração (runtime) é: 90.0\n",
            "52 percentil da duração (runtime) é: 90.0\n",
            "53 percentil da duração (runtime) é: 90.0\n",
            "54 percentil da duração (runtime) é: 90.0\n",
            "55 percentil da duração (runtime) é: 90.0\n",
            "56 percentil da duração (runtime) é: 90.0\n",
            "57 percentil da duração (runtime) é: 90.0\n",
            "58 percentil da duração (runtime) é: 91.0\n",
            "59 percentil da duração (runtime) é: 91.0\n",
            "60 percentil da duração (runtime) é: 92.0\n",
            "61 percentil da duração (runtime) é: 92.0\n",
            "62 percentil da duração (runtime) é: 93.0\n",
            "63 percentil da duração (runtime) é: 93.0\n",
            "64 percentil da duração (runtime) é: 94.0\n",
            "65 percentil da duração (runtime) é: 94.0\n",
            "66 percentil da duração (runtime) é: 95.0\n",
            "67 percentil da duração (runtime) é: 95.0\n",
            "68 percentil da duração (runtime) é: 96.0\n",
            "69 percentil da duração (runtime) é: 96.0\n",
            "70 percentil da duração (runtime) é: 97.0\n",
            "71 percentil da duração (runtime) é: 97.0\n",
            "72 percentil da duração (runtime) é: 98.0\n",
            "73 percentil da duração (runtime) é: 99.0\n",
            "74 percentil da duração (runtime) é: 100.0\n",
            "75 percentil da duração (runtime) é: 100.0\n",
            "76 percentil da duração (runtime) é: 100.0\n",
            "77 percentil da duração (runtime) é: 101.0\n",
            "78 percentil da duração (runtime) é: 102.0\n",
            "79 percentil da duração (runtime) é: 103.0\n",
            "80 percentil da duração (runtime) é: 104.0\n",
            "81 percentil da duração (runtime) é: 105.0\n",
            "82 percentil da duração (runtime) é: 106.0\n",
            "83 percentil da duração (runtime) é: 107.0\n",
            "84 percentil da duração (runtime) é: 108.0\n",
            "85 percentil da duração (runtime) é: 110.0\n",
            "86 percentil da duração (runtime) é: 110.0\n",
            "87 percentil da duração (runtime) é: 112.0\n",
            "88 percentil da duração (runtime) é: 114.0\n",
            "89 percentil da duração (runtime) é: 116.0\n",
            "90 percentil da duração (runtime) é: 119.0\n",
            "91 percentil da duração (runtime) é: 120.0\n",
            "92 percentil da duração (runtime) é: 122.0\n",
            "93 percentil da duração (runtime) é: 126.0\n",
            "94 percentil da duração (runtime) é: 130.0\n",
            "95 percentil da duração (runtime) é: 134.0\n",
            "96 percentil da duração (runtime) é: 139.0\n",
            "97 percentil da duração (runtime) é: 145.0\n",
            "98 percentil da duração (runtime) é: 153.0\n",
            "99 percentil da duração (runtime) é: 168.0\n",
            "100 percentil da duração (runtime) é: 51420.0\n"
          ],
          "name": "stdout"
        }
      ]
    },
    {
      "cell_type": "code",
      "metadata": {
        "id": "QsG590nIag_h"
      },
      "source": [
        "# Refazendo a consulta e retornando o filme com maior duração\n",
        "consulta6 = '''\n",
        "            SELECT runtime_minutes Runtime, primary_title\n",
        "            FROM titles \n",
        "            WHERE type = 'movie' AND Runtime != 'NaN'\n",
        "            ORDER BY Runtime DESC\n",
        "            LIMIT 1\n",
        "            ''' "
      ],
      "execution_count": 76,
      "outputs": []
    },
    {
      "cell_type": "code",
      "metadata": {
        "id": "t4cbnSe7F6PC"
      },
      "source": [
        "resultado6 = pd.read_sql_query(consulta6, conn)"
      ],
      "execution_count": 77,
      "outputs": []
    },
    {
      "cell_type": "code",
      "metadata": {
        "colab": {
          "base_uri": "https://localhost:8080/",
          "height": 80
        },
        "id": "GiXWo7tBaqhZ",
        "outputId": "a71205c5-1644-4a92-c8fa-61ad0c48743a"
      },
      "source": [
        "resultado6"
      ],
      "execution_count": 78,
      "outputs": [
        {
          "output_type": "execute_result",
          "data": {
            "text/html": [
              "<div>\n",
              "<style scoped>\n",
              "    .dataframe tbody tr th:only-of-type {\n",
              "        vertical-align: middle;\n",
              "    }\n",
              "\n",
              "    .dataframe tbody tr th {\n",
              "        vertical-align: top;\n",
              "    }\n",
              "\n",
              "    .dataframe thead th {\n",
              "        text-align: right;\n",
              "    }\n",
              "</style>\n",
              "<table border=\"1\" class=\"dataframe\">\n",
              "  <thead>\n",
              "    <tr style=\"text-align: right;\">\n",
              "      <th></th>\n",
              "      <th>Runtime</th>\n",
              "      <th>primary_title</th>\n",
              "    </tr>\n",
              "  </thead>\n",
              "  <tbody>\n",
              "    <tr>\n",
              "      <th>0</th>\n",
              "      <td>51420</td>\n",
              "      <td>Logistics</td>\n",
              "    </tr>\n",
              "  </tbody>\n",
              "</table>\n",
              "</div>"
            ],
            "text/plain": [
              "   Runtime primary_title\n",
              "0    51420     Logistics"
            ]
          },
          "metadata": {
            "tags": []
          },
          "execution_count": 78
        }
      ]
    },
    {
      "cell_type": "markdown",
      "metadata": {
        "id": "Ho17U3IbcieL"
      },
      "source": [
        "'Logistics' é o filme mais longo da história (até este momento), com 857 horas (51420 minutos). Dirigido por Daniel Andersson e Erika Magnusson, o filme acompanha todo o ciclo de vida de um pedômetro (dispositivo de rastreamento de passos) em ordem cronológica reversa."
      ]
    },
    {
      "cell_type": "markdown",
      "metadata": {
        "id": "Z4O4rDdHy7oO"
      },
      "source": [
        "## 7- Qual a Relação Entre Duração e Gênero?\n",
        "\n",
        "Relação entre duração do filme e gênero."
      ]
    },
    {
      "cell_type": "code",
      "metadata": {
        "id": "0kc8MHtUledj"
      },
      "source": [
        "# Consulta SQL\n",
        "consulta7 = '''\n",
        "            SELECT AVG(runtime_minutes) Runtime, genres \n",
        "            FROM titles \n",
        "            WHERE type = 'movie'\n",
        "            AND runtime_minutes != 'NaN'\n",
        "            GROUP BY genres\n",
        "            ''' "
      ],
      "execution_count": 79,
      "outputs": []
    },
    {
      "cell_type": "code",
      "metadata": {
        "id": "h-JhHBK9F6PD"
      },
      "source": [
        "# Resultado\n",
        "resultado7 = pd.read_sql_query(consulta7, conn)"
      ],
      "execution_count": 80,
      "outputs": []
    },
    {
      "cell_type": "code",
      "metadata": {
        "id": "0rzN-DAm5mwA"
      },
      "source": [
        "# Retorna gêneros únicos\n",
        "generos_unicos = retorna_generos(resultado7)"
      ],
      "execution_count": 81,
      "outputs": []
    },
    {
      "cell_type": "code",
      "metadata": {
        "colab": {
          "base_uri": "https://localhost:8080/"
        },
        "id": "bfWji3ENF6PD",
        "outputId": "eb299675-2c6f-4ad2-f00d-398478fd6259"
      },
      "source": [
        "# Visualiza\n",
        "generos_unicos"
      ],
      "execution_count": 82,
      "outputs": [
        {
          "output_type": "execute_result",
          "data": {
            "text/plain": [
              "['action',\n",
              " 'adult',\n",
              " 'adventure',\n",
              " 'animation',\n",
              " 'biography',\n",
              " 'comedy',\n",
              " 'crime',\n",
              " 'documentary',\n",
              " 'drama',\n",
              " 'family',\n",
              " 'fantasy',\n",
              " 'film-noir',\n",
              " 'game-show',\n",
              " 'history',\n",
              " 'horror',\n",
              " 'music',\n",
              " 'musical',\n",
              " 'mystery',\n",
              " 'news',\n",
              " 'reality-tv',\n",
              " 'romance',\n",
              " 'sci-fi',\n",
              " 'short',\n",
              " 'sport',\n",
              " 'talk-show',\n",
              " 'thriller',\n",
              " 'war',\n",
              " 'western']"
            ]
          },
          "metadata": {
            "tags": []
          },
          "execution_count": 82
        }
      ]
    },
    {
      "cell_type": "code",
      "metadata": {
        "id": "8f79NjxwEdA4"
      },
      "source": [
        "# Calcula duração por gênero\n",
        "genero_runtime = []\n",
        "for item in generos_unicos:\n",
        "    consulta = 'SELECT runtime_minutes Runtime FROM  titles  WHERE genres LIKE '+ '\\''+'%'+item+'%'+'\\' AND type=\\'movie\\' AND Runtime!=\\'NaN\\''\n",
        "    resultado = pd.read_sql_query(consulta, conn)\n",
        "    genero_runtime.append(np.median(resultado['Runtime']))"
      ],
      "execution_count": 83,
      "outputs": []
    },
    {
      "cell_type": "code",
      "metadata": {
        "id": "bW5jRTqyG5s1"
      },
      "source": [
        "# Prepara o dataframe\n",
        "df_genero_runtime = pd.DataFrame()\n",
        "df_genero_runtime['genre'] = generos_unicos\n",
        "df_genero_runtime['runtime'] = genero_runtime"
      ],
      "execution_count": 84,
      "outputs": []
    },
    {
      "cell_type": "code",
      "metadata": {
        "id": "q03CMhQwHTXs"
      },
      "source": [
        "# Remove índice 18 (news)\n",
        "df_genero_runtime = df_genero_runtime.drop(index = 18)"
      ],
      "execution_count": 85,
      "outputs": []
    },
    {
      "cell_type": "code",
      "metadata": {
        "id": "xa6O1pozHfEH"
      },
      "source": [
        "# Ordena os dados\n",
        "df_genero_runtime = df_genero_runtime.sort_values(by = 'runtime', ascending = False)"
      ],
      "execution_count": 86,
      "outputs": []
    },
    {
      "cell_type": "code",
      "metadata": {
        "colab": {
          "base_uri": "https://localhost:8080/",
          "height": 563
        },
        "id": "AKKU1iTHH19k",
        "outputId": "c7e67e21-a986-4b0a-ef9a-92579ae69fc9"
      },
      "source": [
        "# Plot\n",
        "\n",
        "# Tamanho da figura\n",
        "plt.figure(figsize = (16,8))\n",
        "\n",
        "# Barplot\n",
        "sns.barplot(y = df_genero_runtime.genre, x = df_genero_runtime.runtime, orient = \"h\")\n",
        "\n",
        "# Loop\n",
        "for i in range(len(df_genero_runtime.index)):\n",
        "    plt.text(df_genero_runtime.runtime[df_genero_runtime.index[i]],\n",
        "             i + 0.25,\n",
        "             round(df_genero_runtime[\"runtime\"][df_genero_runtime.index[i]], 2))\n",
        "\n",
        "plt.ylabel('Gênero')             \n",
        "plt.xlabel('\\nMediana de Tempo de Duração (Minutos)')\n",
        "plt.title('\\nRelação Entre Duração e Gênero\\n')\n",
        "plt.show()"
      ],
      "execution_count": 87,
      "outputs": [
        {
          "output_type": "display_data",
          "data": {
            "image/png": "[encoded data removed]",
            "text/plain": [
              "<Figure size 1152x576 with 1 Axes>"
            ]
          },
          "metadata": {
            "tags": []
          }
        }
      ]
    },
    {
      "cell_type": "markdown",
      "metadata": {
        "id": "t6ScDbBNzblj"
      },
      "source": [
        "## 8- Qual o Número de Filmes Produzidos Por País?\n",
        "\n",
        "Número de filmes produzidos por país."
      ]
    },
    {
      "cell_type": "code",
      "metadata": {
        "id": "xit2KSBiLOdf"
      },
      "source": [
        "# Consulta SQL\n",
        "consulta8 = '''\n",
        "            SELECT region, COUNT(*) Number_of_movies FROM \n",
        "            akas JOIN titles ON \n",
        "            akas.title_id = titles.title_id\n",
        "            WHERE region != 'None'\n",
        "            AND type = \\'movie\\'\n",
        "            GROUP BY region\n",
        "            ''' "
      ],
      "execution_count": 88,
      "outputs": []
    },
    {
      "cell_type": "code",
      "metadata": {
        "id": "i1tZS9SJF6PF"
      },
      "source": [
        "# Resultado\n",
        "resultado8 = pd.read_sql_query(consulta8, conn)"
      ],
      "execution_count": 89,
      "outputs": []
    },
    {
      "cell_type": "code",
      "metadata": {
        "colab": {
          "base_uri": "https://localhost:8080/",
          "height": 419
        },
        "id": "6vB-1xymF6PF",
        "outputId": "43cb4df4-67c0-486d-e933-2a27e5d26800"
      },
      "source": [
        "display(resultado8)"
      ],
      "execution_count": 90,
      "outputs": [
        {
          "output_type": "display_data",
          "data": {
            "text/html": [
              "<div>\n",
              "<style scoped>\n",
              "    .dataframe tbody tr th:only-of-type {\n",
              "        vertical-align: middle;\n",
              "    }\n",
              "\n",
              "    .dataframe tbody tr th {\n",
              "        vertical-align: top;\n",
              "    }\n",
              "\n",
              "    .dataframe thead th {\n",
              "        text-align: right;\n",
              "    }\n",
              "</style>\n",
              "<table border=\"1\" class=\"dataframe\">\n",
              "  <thead>\n",
              "    <tr style=\"text-align: right;\">\n",
              "      <th></th>\n",
              "      <th>region</th>\n",
              "      <th>Number_of_movies</th>\n",
              "    </tr>\n",
              "  </thead>\n",
              "  <tbody>\n",
              "    <tr>\n",
              "      <th>0</th>\n",
              "      <td>AD</td>\n",
              "      <td>22</td>\n",
              "    </tr>\n",
              "    <tr>\n",
              "      <th>1</th>\n",
              "      <td>AE</td>\n",
              "      <td>334</td>\n",
              "    </tr>\n",
              "    <tr>\n",
              "      <th>2</th>\n",
              "      <td>AF</td>\n",
              "      <td>108</td>\n",
              "    </tr>\n",
              "    <tr>\n",
              "      <th>3</th>\n",
              "      <td>AG</td>\n",
              "      <td>12</td>\n",
              "    </tr>\n",
              "    <tr>\n",
              "      <th>4</th>\n",
              "      <td>AL</td>\n",
              "      <td>1229</td>\n",
              "    </tr>\n",
              "    <tr>\n",
              "      <th>...</th>\n",
              "      <td>...</td>\n",
              "      <td>...</td>\n",
              "    </tr>\n",
              "    <tr>\n",
              "      <th>228</th>\n",
              "      <td>YUCS</td>\n",
              "      <td>146</td>\n",
              "    </tr>\n",
              "    <tr>\n",
              "      <th>229</th>\n",
              "      <td>ZA</td>\n",
              "      <td>3003</td>\n",
              "    </tr>\n",
              "    <tr>\n",
              "      <th>230</th>\n",
              "      <td>ZM</td>\n",
              "      <td>11</td>\n",
              "    </tr>\n",
              "    <tr>\n",
              "      <th>231</th>\n",
              "      <td>ZRCD</td>\n",
              "      <td>2</td>\n",
              "    </tr>\n",
              "    <tr>\n",
              "      <th>232</th>\n",
              "      <td>ZW</td>\n",
              "      <td>47</td>\n",
              "    </tr>\n",
              "  </tbody>\n",
              "</table>\n",
              "<p>233 rows × 2 columns</p>\n",
              "</div>"
            ],
            "text/plain": [
              "    region  Number_of_movies\n",
              "0       AD                22\n",
              "1       AE               334\n",
              "2       AF               108\n",
              "3       AG                12\n",
              "4       AL              1229\n",
              "..     ...               ...\n",
              "228   YUCS               146\n",
              "229     ZA              3003\n",
              "230     ZM                11\n",
              "231   ZRCD                 2\n",
              "232     ZW                47\n",
              "\n",
              "[233 rows x 2 columns]"
            ]
          },
          "metadata": {
            "tags": []
          }
        }
      ]
    },
    {
      "cell_type": "code",
      "metadata": {
        "colab": {
          "base_uri": "https://localhost:8080/"
        },
        "id": "tzu7jIiqF6PG",
        "outputId": "e6288ad8-5e35-48e3-e4ee-a90699a9e2b4"
      },
      "source": [
        "# Shape\n",
        "resultado8.shape"
      ],
      "execution_count": 91,
      "outputs": [
        {
          "output_type": "execute_result",
          "data": {
            "text/plain": [
              "(233, 2)"
            ]
          },
          "metadata": {
            "tags": []
          },
          "execution_count": 91
        }
      ]
    },
    {
      "cell_type": "code",
      "metadata": {
        "colab": {
          "base_uri": "https://localhost:8080/"
        },
        "id": "wAh4phnbF6PH",
        "outputId": "be4f4605-7f73-4917-8717-380f9db51a0d"
      },
      "source": [
        "# Número de linhas\n",
        "resultado8.shape[0]"
      ],
      "execution_count": 92,
      "outputs": [
        {
          "output_type": "execute_result",
          "data": {
            "text/plain": [
              "233"
            ]
          },
          "metadata": {
            "tags": []
          },
          "execution_count": 92
        }
      ]
    },
    {
      "cell_type": "code",
      "metadata": {
        "id": "6sOHnIRDF6PH"
      },
      "source": [
        "# Listas auxiliares\n",
        "nomes_paises = []\n",
        "contagem = []"
      ],
      "execution_count": 93,
      "outputs": []
    },
    {
      "cell_type": "code",
      "metadata": {
        "id": "y0EiQBfgNEgb"
      },
      "source": [
        "# Loop para obter o país de acordo com a região\n",
        "for i in range(resultado8.shape[0]):\n",
        "    try:\n",
        "        coun = resultado8['region'].values[i]\n",
        "        nomes_paises.append(pycountry.countries.get(alpha_2 = coun).name)\n",
        "        contagem.append(resultado8['Number_of_movies'].values[i])\n",
        "    except: \n",
        "        continue"
      ],
      "execution_count": 94,
      "outputs": []
    },
    {
      "cell_type": "code",
      "metadata": {
        "id": "Ke69xq96Oeeu"
      },
      "source": [
        "# Prepara o dataframe\n",
        "df_filmes_paises = pd.DataFrame()\n",
        "df_filmes_paises['country'] = nomes_paises\n",
        "df_filmes_paises['Movie_Count'] = contagem"
      ],
      "execution_count": 95,
      "outputs": []
    },
    {
      "cell_type": "code",
      "metadata": {
        "id": "RyaO-hmNOxv-"
      },
      "source": [
        "# Ordena o resultado\n",
        "df_filmes_paises = df_filmes_paises.sort_values(by = 'Movie_Count', ascending = False)"
      ],
      "execution_count": 96,
      "outputs": []
    },
    {
      "cell_type": "code",
      "metadata": {
        "colab": {
          "base_uri": "https://localhost:8080/",
          "height": 359
        },
        "id": "JKv-g5zKF6PI",
        "outputId": "8148beb4-fa36-4ea8-d846-aaf56e6e23d1"
      },
      "source": [
        "# Visualiza\n",
        "df_filmes_paises.head(10)"
      ],
      "execution_count": 97,
      "outputs": [
        {
          "output_type": "execute_result",
          "data": {
            "text/html": [
              "<div>\n",
              "<style scoped>\n",
              "    .dataframe tbody tr th:only-of-type {\n",
              "        vertical-align: middle;\n",
              "    }\n",
              "\n",
              "    .dataframe tbody tr th {\n",
              "        vertical-align: top;\n",
              "    }\n",
              "\n",
              "    .dataframe thead th {\n",
              "        text-align: right;\n",
              "    }\n",
              "</style>\n",
              "<table border=\"1\" class=\"dataframe\">\n",
              "  <thead>\n",
              "    <tr style=\"text-align: right;\">\n",
              "      <th></th>\n",
              "      <th>country</th>\n",
              "      <th>Movie_Count</th>\n",
              "    </tr>\n",
              "  </thead>\n",
              "  <tbody>\n",
              "    <tr>\n",
              "      <th>199</th>\n",
              "      <td>United States</td>\n",
              "      <td>259470</td>\n",
              "    </tr>\n",
              "    <tr>\n",
              "      <th>65</th>\n",
              "      <td>United Kingdom</td>\n",
              "      <td>117373</td>\n",
              "    </tr>\n",
              "    <tr>\n",
              "      <th>96</th>\n",
              "      <td>Japan</td>\n",
              "      <td>88232</td>\n",
              "    </tr>\n",
              "    <tr>\n",
              "      <th>63</th>\n",
              "      <td>France</td>\n",
              "      <td>81359</td>\n",
              "    </tr>\n",
              "    <tr>\n",
              "      <th>89</th>\n",
              "      <td>India</td>\n",
              "      <td>72285</td>\n",
              "    </tr>\n",
              "    <tr>\n",
              "      <th>32</th>\n",
              "      <td>Canada</td>\n",
              "      <td>68745</td>\n",
              "    </tr>\n",
              "    <tr>\n",
              "      <th>47</th>\n",
              "      <td>Germany</td>\n",
              "      <td>65860</td>\n",
              "    </tr>\n",
              "    <tr>\n",
              "      <th>93</th>\n",
              "      <td>Italy</td>\n",
              "      <td>63297</td>\n",
              "    </tr>\n",
              "    <tr>\n",
              "      <th>26</th>\n",
              "      <td>Brazil</td>\n",
              "      <td>62113</td>\n",
              "    </tr>\n",
              "    <tr>\n",
              "      <th>58</th>\n",
              "      <td>Spain</td>\n",
              "      <td>62001</td>\n",
              "    </tr>\n",
              "  </tbody>\n",
              "</table>\n",
              "</div>"
            ],
            "text/plain": [
              "            country  Movie_Count\n",
              "199   United States       259470\n",
              "65   United Kingdom       117373\n",
              "96            Japan        88232\n",
              "63           France        81359\n",
              "89            India        72285\n",
              "32           Canada        68745\n",
              "47          Germany        65860\n",
              "93            Italy        63297\n",
              "26           Brazil        62113\n",
              "58            Spain        62001"
            ]
          },
          "metadata": {
            "tags": []
          },
          "execution_count": 97
        }
      ]
    },
    {
      "cell_type": "code",
      "metadata": {
        "colab": {
          "base_uri": "https://localhost:8080/",
          "height": 556
        },
        "id": "9vLWE-JaPB8K",
        "outputId": "97294a03-be2e-46b5-afbd-9220465649d1"
      },
      "source": [
        "# Plot\n",
        "\n",
        "# Figura\n",
        "plt.figure(figsize = (20,8))\n",
        "\n",
        "# Barplot\n",
        "sns.barplot(y = df_filmes_paises[:20].country, x = df_filmes_paises[:20].Movie_Count, orient = \"h\")\n",
        "\n",
        "# Loop\n",
        "for i in range(0,20):\n",
        "    plt.text(df_filmes_paises.Movie_Count[df_filmes_paises.index[i]]-1,\n",
        "             i + 0.30,\n",
        "             round(df_filmes_paises[\"Movie_Count\"][df_filmes_paises.index[i]],2))\n",
        "\n",
        "plt.ylabel('País')             \n",
        "plt.xlabel('\\nNúmero de Filmes')\n",
        "plt.title('\\nNúmero de Filmes Produzidos Por País\\n')\n",
        "plt.show()"
      ],
      "execution_count": 98,
      "outputs": [
        {
          "output_type": "display_data",
          "data": {
            "image/png": "[encoded data removed]",
            "text/plain": [
              "<Figure size 1440x576 with 1 Axes>"
            ]
          },
          "metadata": {
            "tags": []
          }
        }
      ]
    },
    {
      "cell_type": "markdown",
      "metadata": {
        "id": "szAHC3FEyoiv"
      },
      "source": [
        "## 9- Quais São os Top 10 Melhores Filmes?\n",
        "\n",
        "Top 10 filmes com melhor avaliação e mais de 25 mil votos."
      ]
    },
    {
      "cell_type": "code",
      "metadata": {
        "id": "b4IB3sTJiStg"
      },
      "source": [
        "# Consulta SQL\n",
        "consulta9 = '''\n",
        "            SELECT primary_title AS Movie_Name, genres, rating\n",
        "            FROM \n",
        "            titles JOIN ratings\n",
        "            ON  titles.title_id = ratings.title_id\n",
        "            WHERE titles.type = 'movie' AND ratings.votes >= 25000\n",
        "            ORDER BY rating DESC\n",
        "            LIMIT 10          \n",
        "            ''' "
      ],
      "execution_count": 99,
      "outputs": []
    },
    {
      "cell_type": "code",
      "metadata": {
        "id": "vTWcPPJIF6PK"
      },
      "source": [
        "# Resultado\n",
        "top10_melhores_filmes = pd.read_sql_query(consulta9, conn)"
      ],
      "execution_count": 100,
      "outputs": []
    },
    {
      "cell_type": "code",
      "metadata": {
        "colab": {
          "base_uri": "https://localhost:8080/",
          "height": 359
        },
        "id": "KSRtvIzMF6PK",
        "outputId": "e57e18a0-4afa-4e85-bc4a-1c414e90b400"
      },
      "source": [
        "display(top10_melhores_filmes)"
      ],
      "execution_count": 101,
      "outputs": [
        {
          "output_type": "display_data",
          "data": {
            "text/html": [
              "<div>\n",
              "<style scoped>\n",
              "    .dataframe tbody tr th:only-of-type {\n",
              "        vertical-align: middle;\n",
              "    }\n",
              "\n",
              "    .dataframe tbody tr th {\n",
              "        vertical-align: top;\n",
              "    }\n",
              "\n",
              "    .dataframe thead th {\n",
              "        text-align: right;\n",
              "    }\n",
              "</style>\n",
              "<table border=\"1\" class=\"dataframe\">\n",
              "  <thead>\n",
              "    <tr style=\"text-align: right;\">\n",
              "      <th></th>\n",
              "      <th>Movie_Name</th>\n",
              "      <th>genres</th>\n",
              "      <th>rating</th>\n",
              "    </tr>\n",
              "  </thead>\n",
              "  <tbody>\n",
              "    <tr>\n",
              "      <th>0</th>\n",
              "      <td>The Shawshank Redemption</td>\n",
              "      <td>Drama</td>\n",
              "      <td>9.3</td>\n",
              "    </tr>\n",
              "    <tr>\n",
              "      <th>1</th>\n",
              "      <td>The Chaos Class</td>\n",
              "      <td>Comedy,Drama</td>\n",
              "      <td>9.3</td>\n",
              "    </tr>\n",
              "    <tr>\n",
              "      <th>2</th>\n",
              "      <td>The Godfather</td>\n",
              "      <td>Crime,Drama</td>\n",
              "      <td>9.2</td>\n",
              "    </tr>\n",
              "    <tr>\n",
              "      <th>3</th>\n",
              "      <td>CM101MMXI Fundamentals</td>\n",
              "      <td>Comedy,Documentary</td>\n",
              "      <td>9.2</td>\n",
              "    </tr>\n",
              "    <tr>\n",
              "      <th>4</th>\n",
              "      <td>Soorarai Pottru</td>\n",
              "      <td>Drama</td>\n",
              "      <td>9.1</td>\n",
              "    </tr>\n",
              "    <tr>\n",
              "      <th>5</th>\n",
              "      <td>12 Angry Men</td>\n",
              "      <td>Crime,Drama</td>\n",
              "      <td>9.0</td>\n",
              "    </tr>\n",
              "    <tr>\n",
              "      <th>6</th>\n",
              "      <td>The Godfather: Part II</td>\n",
              "      <td>Crime,Drama</td>\n",
              "      <td>9.0</td>\n",
              "    </tr>\n",
              "    <tr>\n",
              "      <th>7</th>\n",
              "      <td>The Dark Knight</td>\n",
              "      <td>Action,Crime,Drama</td>\n",
              "      <td>9.0</td>\n",
              "    </tr>\n",
              "    <tr>\n",
              "      <th>8</th>\n",
              "      <td>David Attenborough: A Life on Our Planet</td>\n",
              "      <td>Biography,Documentary</td>\n",
              "      <td>9.0</td>\n",
              "    </tr>\n",
              "    <tr>\n",
              "      <th>9</th>\n",
              "      <td>Schindler's List</td>\n",
              "      <td>Biography,Drama,History</td>\n",
              "      <td>8.9</td>\n",
              "    </tr>\n",
              "  </tbody>\n",
              "</table>\n",
              "</div>"
            ],
            "text/plain": [
              "                                 Movie_Name                   genres  rating\n",
              "0                  The Shawshank Redemption                    Drama     9.3\n",
              "1                           The Chaos Class             Comedy,Drama     9.3\n",
              "2                             The Godfather              Crime,Drama     9.2\n",
              "3                    CM101MMXI Fundamentals       Comedy,Documentary     9.2\n",
              "4                           Soorarai Pottru                    Drama     9.1\n",
              "5                              12 Angry Men              Crime,Drama     9.0\n",
              "6                    The Godfather: Part II              Crime,Drama     9.0\n",
              "7                           The Dark Knight       Action,Crime,Drama     9.0\n",
              "8  David Attenborough: A Life on Our Planet    Biography,Documentary     9.0\n",
              "9                          Schindler's List  Biography,Drama,History     8.9"
            ]
          },
          "metadata": {
            "tags": []
          }
        }
      ]
    },
    {
      "cell_type": "markdown",
      "metadata": {
        "id": "lTVNkJGjF6PK"
      },
      "source": [
        "## 10- Quais São os Top 10 Piores Filmes?\n",
        "\n",
        "Top 10 filmes com pior avaliação e mais de 25 mil votos."
      ]
    },
    {
      "cell_type": "code",
      "metadata": {
        "id": "xNkQXdifjWEF"
      },
      "source": [
        "# Consulta SQL\n",
        "consulta10 = '''\n",
        "            SELECT primary_title AS Movie_Name, genres, rating\n",
        "            FROM \n",
        "            titles JOIN ratings\n",
        "            ON  titles.title_id = ratings.title_id\n",
        "            WHERE titles.type = 'movie' AND ratings.votes >= 25000\n",
        "            ORDER BY rating ASC\n",
        "            LIMIT 10\n",
        "            ''' "
      ],
      "execution_count": 102,
      "outputs": []
    },
    {
      "cell_type": "code",
      "metadata": {
        "id": "naOoI-IXfKSI"
      },
      "source": [
        "# Resultado\n",
        "top10_piores_filmes = pd.read_sql_query(consulta10, conn)"
      ],
      "execution_count": 103,
      "outputs": []
    },
    {
      "cell_type": "code",
      "metadata": {
        "colab": {
          "base_uri": "https://localhost:8080/",
          "height": 359
        },
        "id": "_YlzofpKF6PL",
        "outputId": "90d2942f-158e-450c-da91-387fb6e3c31c"
      },
      "source": [
        "display(top10_piores_filmes)"
      ],
      "execution_count": 104,
      "outputs": [
        {
          "output_type": "display_data",
          "data": {
            "text/html": [
              "<div>\n",
              "<style scoped>\n",
              "    .dataframe tbody tr th:only-of-type {\n",
              "        vertical-align: middle;\n",
              "    }\n",
              "\n",
              "    .dataframe tbody tr th {\n",
              "        vertical-align: top;\n",
              "    }\n",
              "\n",
              "    .dataframe thead th {\n",
              "        text-align: right;\n",
              "    }\n",
              "</style>\n",
              "<table border=\"1\" class=\"dataframe\">\n",
              "  <thead>\n",
              "    <tr style=\"text-align: right;\">\n",
              "      <th></th>\n",
              "      <th>Movie_Name</th>\n",
              "      <th>genres</th>\n",
              "      <th>rating</th>\n",
              "    </tr>\n",
              "  </thead>\n",
              "  <tbody>\n",
              "    <tr>\n",
              "      <th>0</th>\n",
              "      <td>Cumali Ceber</td>\n",
              "      <td>Comedy</td>\n",
              "      <td>1.0</td>\n",
              "    </tr>\n",
              "    <tr>\n",
              "      <th>1</th>\n",
              "      <td>Smolensk</td>\n",
              "      <td>Drama,Thriller</td>\n",
              "      <td>1.1</td>\n",
              "    </tr>\n",
              "    <tr>\n",
              "      <th>2</th>\n",
              "      <td>Sadak 2</td>\n",
              "      <td>Action,Drama</td>\n",
              "      <td>1.1</td>\n",
              "    </tr>\n",
              "    <tr>\n",
              "      <th>3</th>\n",
              "      <td>Reis</td>\n",
              "      <td>Biography,Drama</td>\n",
              "      <td>1.4</td>\n",
              "    </tr>\n",
              "    <tr>\n",
              "      <th>4</th>\n",
              "      <td>Justin Bieber: Never Say Never</td>\n",
              "      <td>Documentary,Music</td>\n",
              "      <td>1.6</td>\n",
              "    </tr>\n",
              "    <tr>\n",
              "      <th>5</th>\n",
              "      <td>Manos: The Hands of Fate</td>\n",
              "      <td>Drama,Horror</td>\n",
              "      <td>1.8</td>\n",
              "    </tr>\n",
              "    <tr>\n",
              "      <th>6</th>\n",
              "      <td>Radhe</td>\n",
              "      <td>Action,Crime,Thriller</td>\n",
              "      <td>1.8</td>\n",
              "    </tr>\n",
              "    <tr>\n",
              "      <th>7</th>\n",
              "      <td>Superbabies: Baby Geniuses 2</td>\n",
              "      <td>Comedy,Family,Sci-Fi</td>\n",
              "      <td>1.9</td>\n",
              "    </tr>\n",
              "    <tr>\n",
              "      <th>8</th>\n",
              "      <td>The Hottie &amp; the Nottie</td>\n",
              "      <td>Comedy,Romance</td>\n",
              "      <td>1.9</td>\n",
              "    </tr>\n",
              "    <tr>\n",
              "      <th>9</th>\n",
              "      <td>Disaster Movie</td>\n",
              "      <td>Comedy,Sci-Fi</td>\n",
              "      <td>1.9</td>\n",
              "    </tr>\n",
              "  </tbody>\n",
              "</table>\n",
              "</div>"
            ],
            "text/plain": [
              "                       Movie_Name                 genres  rating\n",
              "0                    Cumali Ceber                 Comedy     1.0\n",
              "1                        Smolensk         Drama,Thriller     1.1\n",
              "2                         Sadak 2           Action,Drama     1.1\n",
              "3                            Reis        Biography,Drama     1.4\n",
              "4  Justin Bieber: Never Say Never      Documentary,Music     1.6\n",
              "5        Manos: The Hands of Fate           Drama,Horror     1.8\n",
              "6                           Radhe  Action,Crime,Thriller     1.8\n",
              "7    Superbabies: Baby Geniuses 2   Comedy,Family,Sci-Fi     1.9\n",
              "8         The Hottie & the Nottie         Comedy,Romance     1.9\n",
              "9                  Disaster Movie          Comedy,Sci-Fi     1.9"
            ]
          },
          "metadata": {
            "tags": []
          }
        }
      ]
    },
    {
      "cell_type": "markdown",
      "metadata": {
        "id": "15U4fg7UF6PL"
      },
      "source": [
        "# Fim"
      ]
    },
    {
      "cell_type": "markdown",
      "metadata": {
        "id": "pbVpYcU0F6PM"
      },
      "source": [
        "### Obrigado\n",
        "\n",
        "### Visite o Blog da Data Science Academy - <a href=\"http://blog.dsacademy.com.br\">Blog DSA</a>"
      ]
    },
    {
      "cell_type": "markdown",
      "metadata": {
        "id": "r9ANPiT5F6PM"
      },
      "source": [
        "Parabéns se você chegou até aqui. Use o voucher PYTHONDSA9642 para comprar qualquer curso ou Formação da DSA com 5% de desconto."
      ]
    }
  ]
}